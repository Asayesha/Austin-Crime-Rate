{
 "cells": [
  {
   "cell_type": "code",
   "execution_count": 11,
   "metadata": {},
   "outputs": [],
   "source": [
    "import pandas as pd\n",
    "import numpy as np\n",
    "import matplotlib as plt\n",
    "import seaborn as sns\n",
    "df = pd.read_csv(\"D:\\Academic\\Summer sem\\Data Analytics programming\\Project\\Crime_cleaned.csv\")"
   ]
  },
  {
   "cell_type": "code",
   "execution_count": 12,
   "metadata": {},
   "outputs": [],
   "source": [
    "df[\"Occurance_year\"] = df[\"Occurred Date\"].map(lambda x: x[-4:])"
   ]
  },
  {
   "cell_type": "code",
   "execution_count": 13,
   "metadata": {},
   "outputs": [],
   "source": [
    "df.isna().sum()\n",
    "df[\"Month\"] =df[\"Occurred Date\"].map(lambda x:x.split(\"/\")[0])"
   ]
  },
  {
   "cell_type": "code",
   "execution_count": 15,
   "metadata": {
    "scrolled": true
   },
   "outputs": [],
   "source": [
    "#divide into day and night\n",
    "def daynight(x):\n",
    "    if x >=2200 or x<=600:\n",
    "        y= \"Night\"\n",
    "    else:\n",
    "        y=\"Day\"\n",
    "    return y    \n",
    "# df_2018[\"DayNight\"]=df_2018[\"Occurred Time\"].map(daynight)\n",
    "# df_2018[\"DayNight\"].value_counts().plot(kind=\"bar\",color =\"c\")"
   ]
  },
  {
   "cell_type": "code",
   "execution_count": 16,
   "metadata": {},
   "outputs": [],
   "source": [
    "def day(x):\n",
    "    if x >=2200 or x<=600:\n",
    "        y= \"Night\"\n",
    "    elif x<=1200:\n",
    "        y=\"Day(before Noon)\"\n",
    "    else:\n",
    "        y=\"Day(after Noon)\"\n",
    "    return y \n",
    "\n",
    "# df_2018[\"Day\"]=df_2018[\"Occurred Time\"].map(day)\n",
    "# df_2018[\"Day\"].value_counts().plot(kind=\"bar\",color = \"c\")"
   ]
  },
  {
   "cell_type": "code",
   "execution_count": 20,
   "metadata": {},
   "outputs": [],
   "source": [
    "cl = df[[\"APD Sector\",\"Zip Code\",\"Location Type\",\"Category Description\",'Report Time','Report Date',\"Occurred Date\",\"Occurred Time\"]]"
   ]
  },
  {
   "cell_type": "code",
   "execution_count": 21,
   "metadata": {},
   "outputs": [],
   "source": [
    "# consider 8,9,10 of year 2018"
   ]
  },
  {
   "cell_type": "code",
   "execution_count": 22,
   "metadata": {},
   "outputs": [
    {
     "name": "stderr",
     "output_type": "stream",
     "text": [
      "C:\\Users\\sayes\\Anaconda3\\lib\\site-packages\\ipykernel_launcher.py:1: SettingWithCopyWarning: \n",
      "A value is trying to be set on a copy of a slice from a DataFrame.\n",
      "Try using .loc[row_indexer,col_indexer] = value instead\n",
      "\n",
      "See the caveats in the documentation: http://pandas.pydata.org/pandas-docs/stable/indexing.html#indexing-view-versus-copy\n",
      "  \"\"\"Entry point for launching an IPython kernel.\n",
      "C:\\Users\\sayes\\Anaconda3\\lib\\site-packages\\ipykernel_launcher.py:2: SettingWithCopyWarning: \n",
      "A value is trying to be set on a copy of a slice from a DataFrame.\n",
      "Try using .loc[row_indexer,col_indexer] = value instead\n",
      "\n",
      "See the caveats in the documentation: http://pandas.pydata.org/pandas-docs/stable/indexing.html#indexing-view-versus-copy\n",
      "  \n",
      "C:\\Users\\sayes\\Anaconda3\\lib\\site-packages\\ipykernel_launcher.py:3: SettingWithCopyWarning: \n",
      "A value is trying to be set on a copy of a slice from a DataFrame.\n",
      "Try using .loc[row_indexer,col_indexer] = value instead\n",
      "\n",
      "See the caveats in the documentation: http://pandas.pydata.org/pandas-docs/stable/indexing.html#indexing-view-versus-copy\n",
      "  This is separate from the ipykernel package so we can avoid doing imports until\n",
      "C:\\Users\\sayes\\Anaconda3\\lib\\site-packages\\ipykernel_launcher.py:12: SettingWithCopyWarning: \n",
      "A value is trying to be set on a copy of a slice from a DataFrame.\n",
      "Try using .loc[row_indexer,col_indexer] = value instead\n",
      "\n",
      "See the caveats in the documentation: http://pandas.pydata.org/pandas-docs/stable/indexing.html#indexing-view-versus-copy\n",
      "  if sys.path[0] == '':\n"
     ]
    }
   ],
   "source": [
    "cl[\"Occurred_year\"] = df[\"Occurred Date\"].map(lambda x: x[-4:])\n",
    "cl[\"Month\"] =df[\"Occurred Date\"].map(lambda x:x.split(\"/\")[0])\n",
    "cl[\"Day\"] =df[\"Occurred Date\"].map(lambda x:x.split(\"/\")[1])\n",
    "\n",
    "from datetime import date\n",
    "from datetime import datetime\n",
    "df['Occurred Date']= pd.to_datetime(df['Occurred Date']) \n",
    "\n",
    "\n",
    "def name(s):\n",
    "    return s.month\n",
    "cl[\"Month_names\"] = df[\"Occurred Date\"].map(name)"
   ]
  },
  {
   "cell_type": "code",
   "execution_count": 23,
   "metadata": {},
   "outputs": [],
   "source": [
    "\n",
    "#df_a = df[df[\"APD Sector\"].isin(df_2018[\"APD Sector\"].unique())]\n",
    "# mask1 = df[\"Occurance_year\"]!=\"2018\"\n",
    "# mask2 = df[\"Occurance_year\"]!=\"2019\"\n",
    "# mask = mask1 & mask2\n",
    "# df_all = df_a[mask]"
   ]
  },
  {
   "cell_type": "code",
   "execution_count": 24,
   "metadata": {},
   "outputs": [
    {
     "name": "stderr",
     "output_type": "stream",
     "text": [
      "C:\\Users\\sayes\\Anaconda3\\lib\\site-packages\\ipykernel_launcher.py:10: SettingWithCopyWarning: \n",
      "A value is trying to be set on a copy of a slice from a DataFrame.\n",
      "Try using .loc[row_indexer,col_indexer] = value instead\n",
      "\n",
      "See the caveats in the documentation: http://pandas.pydata.org/pandas-docs/stable/indexing.html#indexing-view-versus-copy\n",
      "  # Remove the CWD from sys.path while we load stuff.\n"
     ]
    },
    {
     "data": {
      "text/plain": [
       "<matplotlib.axes._subplots.AxesSubplot at 0x28ce0dff8d0>"
      ]
     },
     "execution_count": 24,
     "metadata": {},
     "output_type": "execute_result"
    },
    {
     "data": {
      "image/png": "[encoded data removed]",
      "text/plain": [
       "<Figure size 432x288 with 1 Axes>"
      ]
     },
     "metadata": {
      "needs_background": "light"
     },
     "output_type": "display_data"
    }
   ],
   "source": [
    "def day(x):\n",
    "    if x >=2200 or x<=600:\n",
    "        y= \"Night\"\n",
    "    elif x<=1200:\n",
    "        y=\"Morning\"\n",
    "    else:\n",
    "        y=\"Afternoon\"\n",
    "    return y \n",
    "\n",
    "cl[\"Day_Night\"]=cl[\"Occurred Time\"].map(day)\n",
    "cl[\"Day_Night\"].value_counts().plot(kind=\"bar\",color = \"c\")"
   ]
  },
  {
   "cell_type": "code",
   "execution_count": 25,
   "metadata": {},
   "outputs": [
    {
     "name": "stderr",
     "output_type": "stream",
     "text": [
      "C:\\Users\\sayes\\Anaconda3\\lib\\site-packages\\ipykernel_launcher.py:7: SettingWithCopyWarning: \n",
      "A value is trying to be set on a copy of a slice from a DataFrame.\n",
      "Try using .loc[row_indexer,col_indexer] = value instead\n",
      "\n",
      "See the caveats in the documentation: http://pandas.pydata.org/pandas-docs/stable/indexing.html#indexing-view-versus-copy\n",
      "  import sys\n",
      "C:\\Users\\sayes\\Anaconda3\\lib\\site-packages\\ipykernel_launcher.py:16: SettingWithCopyWarning: \n",
      "A value is trying to be set on a copy of a slice from a DataFrame.\n",
      "Try using .loc[row_indexer,col_indexer] = value instead\n",
      "\n",
      "See the caveats in the documentation: http://pandas.pydata.org/pandas-docs/stable/indexing.html#indexing-view-versus-copy\n",
      "  app.launch_new_instance()\n"
     ]
    }
   ],
   "source": [
    "#take only 3 months - 8,9,10\n",
    "\n",
    "\n",
    "\n",
    "from datetime import date\n",
    "from datetime import datetime\n",
    "cl['Occurred Date']= pd.to_datetime(cl['Occurred Date']) \n",
    "\n",
    "df.dtypes\n",
    "\n",
    "import calendar\n",
    "def whichday(x):\n",
    "    return calendar.day_name[x.weekday()]       \n",
    "\n",
    "\n",
    "cl[\"dayofweek\"] = cl[\"Occurred Date\"].map(whichday)"
   ]
  },
  {
   "cell_type": "code",
   "execution_count": 26,
   "metadata": {},
   "outputs": [],
   "source": [
    "cl_2018 = cl[cl[\"Occurred_year\"]==\"2018\"]\n",
    "fin_cl = cl_2018[[\"Category Description\",\"APD Sector\",\"Zip Code\",\"Location Type\",\"Month\",\"Day_Night\",\"dayofweek\"]]"
   ]
  },
  {
   "cell_type": "code",
   "execution_count": 27,
   "metadata": {},
   "outputs": [],
   "source": [
    "data =cl[[\"Category Description\",\"APD Sector\",\"Zip Code\",\"Location Type\",\"Month\",\"Day_Night\",\"dayofweek\",\"Occurred_year\",\"Month_names\"]]        "
   ]
  },
  {
   "cell_type": "code",
   "execution_count": 28,
   "metadata": {},
   "outputs": [
    {
     "data": {
      "text/html": [
       "<div>\n",
       "<style scoped>\n",
       "    .dataframe tbody tr th:only-of-type {\n",
       "        vertical-align: middle;\n",
       "    }\n",
       "\n",
       "    .dataframe tbody tr th {\n",
       "        vertical-align: top;\n",
       "    }\n",
       "\n",
       "    .dataframe thead th {\n",
       "        text-align: right;\n",
       "    }\n",
       "</style>\n",
       "<table border=\"1\" class=\"dataframe\">\n",
       "  <thead>\n",
       "    <tr style=\"text-align: right;\">\n",
       "      <th>Category Description</th>\n",
       "      <th>Aggravated Assault</th>\n",
       "      <th>Auto Theft</th>\n",
       "      <th>Burglary</th>\n",
       "      <th>Murder</th>\n",
       "      <th>Rape</th>\n",
       "      <th>Robbery</th>\n",
       "      <th>Theft</th>\n",
       "    </tr>\n",
       "    <tr>\n",
       "      <th>APD Sector</th>\n",
       "      <th></th>\n",
       "      <th></th>\n",
       "      <th></th>\n",
       "      <th></th>\n",
       "      <th></th>\n",
       "      <th></th>\n",
       "      <th></th>\n",
       "    </tr>\n",
       "  </thead>\n",
       "  <tbody>\n",
       "    <tr>\n",
       "      <th>AD</th>\n",
       "      <td>179</td>\n",
       "      <td>249</td>\n",
       "      <td>521</td>\n",
       "      <td>3</td>\n",
       "      <td>71</td>\n",
       "      <td>76</td>\n",
       "      <td>4051</td>\n",
       "    </tr>\n",
       "    <tr>\n",
       "      <th>AP</th>\n",
       "      <td>0</td>\n",
       "      <td>22</td>\n",
       "      <td>0</td>\n",
       "      <td>0</td>\n",
       "      <td>0</td>\n",
       "      <td>0</td>\n",
       "      <td>144</td>\n",
       "    </tr>\n",
       "    <tr>\n",
       "      <th>BA</th>\n",
       "      <td>99</td>\n",
       "      <td>285</td>\n",
       "      <td>396</td>\n",
       "      <td>2</td>\n",
       "      <td>73</td>\n",
       "      <td>58</td>\n",
       "      <td>3281</td>\n",
       "    </tr>\n",
       "    <tr>\n",
       "      <th>CH</th>\n",
       "      <td>277</td>\n",
       "      <td>207</td>\n",
       "      <td>373</td>\n",
       "      <td>4</td>\n",
       "      <td>49</td>\n",
       "      <td>107</td>\n",
       "      <td>1756</td>\n",
       "    </tr>\n",
       "    <tr>\n",
       "      <th>DA</th>\n",
       "      <td>205</td>\n",
       "      <td>371</td>\n",
       "      <td>555</td>\n",
       "      <td>2</td>\n",
       "      <td>78</td>\n",
       "      <td>74</td>\n",
       "      <td>4139</td>\n",
       "    </tr>\n",
       "    <tr>\n",
       "      <th>ED</th>\n",
       "      <td>340</td>\n",
       "      <td>325</td>\n",
       "      <td>620</td>\n",
       "      <td>7</td>\n",
       "      <td>98</td>\n",
       "      <td>185</td>\n",
       "      <td>3126</td>\n",
       "    </tr>\n",
       "    <tr>\n",
       "      <th>FR</th>\n",
       "      <td>310</td>\n",
       "      <td>326</td>\n",
       "      <td>553</td>\n",
       "      <td>4</td>\n",
       "      <td>89</td>\n",
       "      <td>80</td>\n",
       "      <td>2799</td>\n",
       "    </tr>\n",
       "    <tr>\n",
       "      <th>GE</th>\n",
       "      <td>138</td>\n",
       "      <td>119</td>\n",
       "      <td>160</td>\n",
       "      <td>0</td>\n",
       "      <td>60</td>\n",
       "      <td>103</td>\n",
       "      <td>2211</td>\n",
       "    </tr>\n",
       "    <tr>\n",
       "      <th>HE</th>\n",
       "      <td>255</td>\n",
       "      <td>280</td>\n",
       "      <td>480</td>\n",
       "      <td>4</td>\n",
       "      <td>82</td>\n",
       "      <td>157</td>\n",
       "      <td>2357</td>\n",
       "    </tr>\n",
       "    <tr>\n",
       "      <th>ID</th>\n",
       "      <td>246</td>\n",
       "      <td>235</td>\n",
       "      <td>506</td>\n",
       "      <td>3</td>\n",
       "      <td>65</td>\n",
       "      <td>151</td>\n",
       "      <td>2511</td>\n",
       "    </tr>\n",
       "  </tbody>\n",
       "</table>\n",
       "</div>"
      ],
      "text/plain": [
       "Category Description  Aggravated Assault  Auto Theft  Burglary  Murder  Rape  \\\n",
       "APD Sector                                                                     \n",
       "AD                                   179         249       521       3    71   \n",
       "AP                                     0          22         0       0     0   \n",
       "BA                                    99         285       396       2    73   \n",
       "CH                                   277         207       373       4    49   \n",
       "DA                                   205         371       555       2    78   \n",
       "ED                                   340         325       620       7    98   \n",
       "FR                                   310         326       553       4    89   \n",
       "GE                                   138         119       160       0    60   \n",
       "HE                                   255         280       480       4    82   \n",
       "ID                                   246         235       506       3    65   \n",
       "\n",
       "Category Description  Robbery  Theft  \n",
       "APD Sector                            \n",
       "AD                         76   4051  \n",
       "AP                          0    144  \n",
       "BA                         58   3281  \n",
       "CH                        107   1756  \n",
       "DA                         74   4139  \n",
       "ED                        185   3126  \n",
       "FR                         80   2799  \n",
       "GE                        103   2211  \n",
       "HE                        157   2357  \n",
       "ID                        151   2511  "
      ]
     },
     "execution_count": 28,
     "metadata": {},
     "output_type": "execute_result"
    }
   ],
   "source": [
    "pd.crosstab(cl_2018[\"APD Sector\"],cl_2018[\"Category Description\"]).iloc[1:]"
   ]
  },
  {
   "cell_type": "code",
   "execution_count": 29,
   "metadata": {},
   "outputs": [
    {
     "data": {
      "text/plain": [
       "<matplotlib.axes._subplots.AxesSubplot at 0x28ce0ef4128>"
      ]
     },
     "execution_count": 29,
     "metadata": {},
     "output_type": "execute_result"
    },
    {
     "data": {
      "image/png": "[encoded data removed]",
      "text/plain": [
       "<Figure size 432x288 with 1 Axes>"
      ]
     },
     "metadata": {
      "needs_background": "light"
     },
     "output_type": "display_data"
    }
   ],
   "source": [
    "cl_2018[\"dayofweek\"].value_counts().plot(kind=\"bar\")"
   ]
  },
  {
   "cell_type": "code",
   "execution_count": 30,
   "metadata": {},
   "outputs": [
    {
     "data": {
      "text/plain": [
       "<matplotlib.axes._subplots.AxesSubplot at 0x28cd53e1c88>"
      ]
     },
     "execution_count": 30,
     "metadata": {},
     "output_type": "execute_result"
    },
    {
     "data": {
      "image/png": "[encoded data removed]",
      "text/plain": [
       "<Figure size 432x288 with 2 Axes>"
      ]
     },
     "metadata": {
      "needs_background": "light"
     },
     "output_type": "display_data"
    }
   ],
   "source": [
    "sns.heatmap(pd.crosstab(cl_2018[\"Category Description\"],cl_2018[\"dayofweek\"]),linewidths=0.5,cmap=\"YlGnBu\")"
   ]
  },
  {
   "cell_type": "code",
   "execution_count": 31,
   "metadata": {},
   "outputs": [
    {
     "data": {
      "image/png": "[encoded data removed]",
      "text/plain": [
       "<Figure size 864x432 with 1 Axes>"
      ]
     },
     "metadata": {
      "needs_background": "light"
     },
     "output_type": "display_data"
    }
   ],
   "source": [
    "import matplotlib.pyplot as plt\n",
    "mask=cl_2018[\"Category Description\"]==\"Theft\" \n",
    "# mask = cl_2018[\"Category Description\"]==\"Burglary\"\n",
    "# mask = mask1 | mask2\n",
    "cl_2018_theft = cl_2018[mask]\n",
    "plt.figure(figsize=(12, 6))\n",
    "ax = sns.countplot(x=\"dayofweek\", hue=\"Day_Night\",data=cl_2018_theft, order = [\"Monday\",\"Tuesday\",\"Wednesday\",\"Thursday\",\"Friday\",\"Saturday\",\"Sunday\"],hue_order =[\"Morning\",\"Afternoon\",\"Night\"])"
   ]
  },
  {
   "cell_type": "code",
   "execution_count": 32,
   "metadata": {},
   "outputs": [
    {
     "data": {
      "image/png": "[encoded data removed]",
      "text/plain": [
       "<Figure size 864x432 with 1 Axes>"
      ]
     },
     "metadata": {
      "needs_background": "light"
     },
     "output_type": "display_data"
    }
   ],
   "source": [
    "mask=cl_2018[\"Category Description\"]==\"Burglary\" \n",
    "cl_2018_b = cl_2018[mask]\n",
    "plt.figure(figsize=(12, 6))\n",
    "ax = sns.countplot(x=\"dayofweek\", hue=\"Day_Night\",data=cl_2018_b, order = [\"Monday\",\"Tuesday\",\"Wednesday\",\"Thursday\",\"Friday\",\"Saturday\",\"Sunday\"],hue_order =[\"Morning\",\"Afternoon\",\"Night\"])\n"
   ]
  },
  {
   "cell_type": "code",
   "execution_count": 33,
   "metadata": {},
   "outputs": [
    {
     "data": {
      "image/png": "[encoded data removed]",
      "text/plain": [
       "<Figure size 864x432 with 1 Axes>"
      ]
     },
     "metadata": {
      "needs_background": "light"
     },
     "output_type": "display_data"
    }
   ],
   "source": [
    "mask=cl_2018[\"Category Description\"]==\"Robbery\" \n",
    "cl_2018_r = cl_2018[mask]\n",
    "plt.figure(figsize=(12, 6))\n",
    "ax = sns.countplot(x=\"dayofweek\", hue=\"Day_Night\",data=cl_2018_r, order = [\"Monday\",\"Tuesday\",\"Wednesday\",\"Thursday\",\"Friday\",\"Saturday\",\"Sunday\"],hue_order = [\"Morning\",\"Afternoon\",\"Night\"])\n"
   ]
  },
  {
   "cell_type": "code",
   "execution_count": 34,
   "metadata": {},
   "outputs": [
    {
     "data": {
      "image/png": "[encoded data removed]",
      "text/plain": [
       "<Figure size 864x432 with 1 Axes>"
      ]
     },
     "metadata": {
      "needs_background": "light"
     },
     "output_type": "display_data"
    }
   ],
   "source": [
    "mask=cl_2018[\"Category Description\"]==\"Auto Theft\" \n",
    "cl_2018_at = cl_2018[mask]\n",
    "plt.figure(figsize=(12, 6))\n",
    "ax = sns.countplot(x=\"dayofweek\", hue=\"Day_Night\",data=cl_2018_at, order = [\"Monday\",\"Tuesday\",\"Wednesday\",\"Thursday\",\"Friday\",\"Saturday\",\"Sunday\"],hue_order = [\"Morning\",\"Afternoon\",\"Night\"])\n"
   ]
  },
  {
   "cell_type": "code",
   "execution_count": 35,
   "metadata": {},
   "outputs": [
    {
     "data": {
      "image/png": "[encoded data removed]",
      "text/plain": [
       "<Figure size 864x432 with 1 Axes>"
      ]
     },
     "metadata": {
      "needs_background": "light"
     },
     "output_type": "display_data"
    }
   ],
   "source": [
    "mask=cl_2018[\"Category Description\"]==\"Aggravated Assault\" \n",
    "cl_2018_aa = cl_2018[mask]\n",
    "plt.figure(figsize=(12, 6))\n",
    "ax = sns.countplot(x=\"dayofweek\", hue=\"Day_Night\",data=cl_2018_aa, order = [\"Monday\",\"Tuesday\",\"Wednesday\",\"Thursday\",\"Friday\",\"Saturday\",\"Sunday\"],hue_order = [\"Morning\",\"Afternoon\",\"Night\"])\n"
   ]
  },
  {
   "cell_type": "code",
   "execution_count": 36,
   "metadata": {},
   "outputs": [
    {
     "data": {
      "image/png": "[encoded data removed]",
      "text/plain": [
       "<Figure size 864x432 with 1 Axes>"
      ]
     },
     "metadata": {
      "needs_background": "light"
     },
     "output_type": "display_data"
    }
   ],
   "source": [
    "mask=cl_2018[\"Category Description\"]==\"Rape\" \n",
    "cl_2018_rape = cl_2018[mask]\n",
    "plt.figure(figsize=(12, 6))\n",
    "ax = sns.countplot(x=\"dayofweek\", hue=\"Day_Night\",data=cl_2018_rape, order = [\"Monday\",\"Tuesday\",\"Wednesday\",\"Thursday\",\"Friday\",\"Saturday\",\"Sunday\"],hue_order = [\"Morning\",\"Afternoon\",\"Night\"])\n"
   ]
  },
  {
   "cell_type": "code",
   "execution_count": 37,
   "metadata": {
    "scrolled": true
   },
   "outputs": [
    {
     "data": {
      "image/png": "[encoded data removed]",
      "text/plain": [
       "<Figure size 864x360 with 1 Axes>"
      ]
     },
     "metadata": {
      "needs_background": "light"
     },
     "output_type": "display_data"
    }
   ],
   "source": [
    "mask=cl_2018[\"Category Description\"]==\"Murder\" \n",
    "cl_2018_m = cl_2018[mask]\n",
    "plt.figure(figsize=(12, 5))\n",
    "ax = sns.countplot(x=\"dayofweek\", hue=\"Day_Night\",data=cl_2018_m, order = [\"Monday\",\"Tuesday\",\"Wednesday\",\"Thursday\",\"Friday\",\"Saturday\",\"Sunday\"],hue_order =[\"Morning\",\"Afternoon\",\"Night\"])\n"
   ]
  },
  {
   "cell_type": "code",
   "execution_count": 38,
   "metadata": {},
   "outputs": [
    {
     "name": "stderr",
     "output_type": "stream",
     "text": [
      "C:\\Users\\sayes\\Anaconda3\\lib\\site-packages\\ipykernel_launcher.py:2: SettingWithCopyWarning: \n",
      "A value is trying to be set on a copy of a slice from a DataFrame.\n",
      "Try using .loc[row_indexer,col_indexer] = value instead\n",
      "\n",
      "See the caveats in the documentation: http://pandas.pydata.org/pandas-docs/stable/indexing.html#indexing-view-versus-copy\n",
      "  \n"
     ]
    },
    {
     "data": {
      "image/png": "[encoded data removed]",
      "text/plain": [
       "<Figure size 432x288 with 1 Axes>"
      ]
     },
     "metadata": {
      "needs_background": "light"
     },
     "output_type": "display_data"
    }
   ],
   "source": [
    "cl_2018_extra = cl_2018\n",
    "cl_2018_extra[\"CD\"] = cl_2018[\"Category Description\"]\n",
    "cl_2018_extra = cl_2018_extra.groupby([\"Month\",\"Category Description\"])[\"CD\"].agg('count').reset_index()\n",
    "mask = cl_2018_extra[\"Category Description\"] == \"Theft\"\n",
    "cl_2018_extra_mask = cl_2018_extra[-mask]\n",
    "\n",
    "ax = sns.lineplot(x=\"Month\", y=\"CD\", data=cl_2018_extra_mask,hue =\"Category Description\")"
   ]
  },
  {
   "cell_type": "code",
   "execution_count": 39,
   "metadata": {},
   "outputs": [
    {
     "data": {
      "text/plain": [
       "<matplotlib.axes._subplots.AxesSubplot at 0x28cdf224898>"
      ]
     },
     "execution_count": 39,
     "metadata": {},
     "output_type": "execute_result"
    },
    {
     "data": {
      "image/png": "[encoded data removed]",
      "text/plain": [
       "<Figure size 432x288 with 2 Axes>"
      ]
     },
     "metadata": {
      "needs_background": "light"
     },
     "output_type": "display_data"
    }
   ],
   "source": [
    "sns.heatmap(pd.crosstab(cl_2018[\"APD Sector\"],cl_2018[\"Category Description\"]).iloc[1:],linewidths=0.5,cmap=\"YlGnBu\")"
   ]
  },
  {
   "cell_type": "code",
   "execution_count": 40,
   "metadata": {},
   "outputs": [
    {
     "data": {
      "text/plain": [
       "Category Description\n",
       "Aggravated Assault    ED\n",
       "Auto Theft            DA\n",
       "Burglary              ED\n",
       "Murder                ED\n",
       "Rape                  ED\n",
       "Robbery               ED\n",
       "Theft                 DA\n",
       "dtype: object"
      ]
     },
     "execution_count": 40,
     "metadata": {},
     "output_type": "execute_result"
    }
   ],
   "source": [
    "cl_2018\n",
    "pd.crosstab(cl_2018[\"APD Sector\"],cl_2018[\"Category Description\"]).idxmax()"
   ]
  },
  {
   "cell_type": "code",
   "execution_count": 41,
   "metadata": {},
   "outputs": [
    {
     "data": {
      "text/plain": [
       "Category Description\n",
       "Aggravated Assault    ED\n",
       "Auto Theft            ED\n",
       "Burglary              ED\n",
       "Murder                ED\n",
       "Rape                  ED\n",
       "Robbery               ED\n",
       "Theft                 DA\n",
       "dtype: object"
      ]
     },
     "execution_count": 41,
     "metadata": {},
     "output_type": "execute_result"
    }
   ],
   "source": [
    "cl_2017 = cl[cl[\"Occurred_year\"]==\"2017\"]\n",
    "pd.crosstab(cl_2017[\"APD Sector\"],cl_2017[\"Category Description\"]).idxmax()"
   ]
  },
  {
   "cell_type": "code",
   "execution_count": 42,
   "metadata": {
    "scrolled": true
   },
   "outputs": [
    {
     "data": {
      "text/plain": [
       "Category Description\n",
       "Aggravated Assault    ED\n",
       "Auto Theft            HE\n",
       "Burglary              ED\n",
       "Murder                ED\n",
       "Rape                  ED\n",
       "Robbery               ED\n",
       "Theft                 DA\n",
       "dtype: object"
      ]
     },
     "execution_count": 42,
     "metadata": {},
     "output_type": "execute_result"
    }
   ],
   "source": [
    "cl_2016 = cl[cl[\"Occurred_year\"]==\"2016\"]\n",
    "pd.crosstab(cl_2016[\"APD Sector\"],cl_2016[\"Category Description\"]).idxmax()"
   ]
  },
  {
   "cell_type": "code",
   "execution_count": 43,
   "metadata": {
    "scrolled": true
   },
   "outputs": [
    {
     "data": {
      "text/plain": [
       "Category Description\n",
       "Aggravated Assault    ED\n",
       "Auto Theft            HE\n",
       "Burglary              ED\n",
       "Murder                ED\n",
       "Rape                  ED\n",
       "Robbery               ED\n",
       "Theft                 DA\n",
       "dtype: object"
      ]
     },
     "execution_count": 43,
     "metadata": {},
     "output_type": "execute_result"
    }
   ],
   "source": [
    "cl_2015 = cl[cl[\"Occurred_year\"]==\"2015\"]\n",
    "pd.crosstab(cl_2016[\"APD Sector\"],cl_2016[\"Category Description\"]).idxmax()"
   ]
  },
  {
   "cell_type": "code",
   "execution_count": 44,
   "metadata": {},
   "outputs": [
    {
     "data": {
      "text/plain": [
       "Category Description\n",
       "Aggravated Assault    78741.0\n",
       "Auto Theft            78741.0\n",
       "Burglary              78758.0\n",
       "Murder                78723.0\n",
       "Rape                  78741.0\n",
       "Robbery               78741.0\n",
       "Theft                 78753.0\n",
       "dtype: float64"
      ]
     },
     "execution_count": 44,
     "metadata": {},
     "output_type": "execute_result"
    }
   ],
   "source": [
    "pd.crosstab(cl_2018[\"Zip Code\"],cl_2018[\"Category Description\"]).idxmax()"
   ]
  },
  {
   "cell_type": "code",
   "execution_count": 45,
   "metadata": {
    "scrolled": true
   },
   "outputs": [
    {
     "data": {
      "text/html": [
       "<div>\n",
       "<style scoped>\n",
       "    .dataframe tbody tr th:only-of-type {\n",
       "        vertical-align: middle;\n",
       "    }\n",
       "\n",
       "    .dataframe tbody tr th {\n",
       "        vertical-align: top;\n",
       "    }\n",
       "\n",
       "    .dataframe thead th {\n",
       "        text-align: right;\n",
       "    }\n",
       "</style>\n",
       "<table border=\"1\" class=\"dataframe\">\n",
       "  <thead>\n",
       "    <tr style=\"text-align: right;\">\n",
       "      <th></th>\n",
       "      <th>APD Sector</th>\n",
       "      <th>Zip Code</th>\n",
       "      <th>Location Type</th>\n",
       "      <th>Category Description</th>\n",
       "      <th>Month_names</th>\n",
       "      <th>Day_Night</th>\n",
       "      <th>dayofweek</th>\n",
       "    </tr>\n",
       "  </thead>\n",
       "  <tbody>\n",
       "    <tr>\n",
       "      <th>40877</th>\n",
       "      <td>ID</td>\n",
       "      <td>78723.0</td>\n",
       "      <td>RESIDENCE / HOME</td>\n",
       "      <td>Aggravated Assault</td>\n",
       "      <td>6</td>\n",
       "      <td>Night</td>\n",
       "      <td>Saturday</td>\n",
       "    </tr>\n",
       "    <tr>\n",
       "      <th>40878</th>\n",
       "      <td>HE</td>\n",
       "      <td>78741.0</td>\n",
       "      <td>PARKING LOTS / GARAGE</td>\n",
       "      <td>Auto Theft</td>\n",
       "      <td>6</td>\n",
       "      <td>Night</td>\n",
       "      <td>Saturday</td>\n",
       "    </tr>\n",
       "    <tr>\n",
       "      <th>40879</th>\n",
       "      <td>DA</td>\n",
       "      <td>78749.0</td>\n",
       "      <td>RESIDENCE / HOME</td>\n",
       "      <td>Burglary</td>\n",
       "      <td>6</td>\n",
       "      <td>Night</td>\n",
       "      <td>Saturday</td>\n",
       "    </tr>\n",
       "    <tr>\n",
       "      <th>40880</th>\n",
       "      <td>AD</td>\n",
       "      <td>78750.0</td>\n",
       "      <td>ABANDONED/CONDEMNED STRUCTURE</td>\n",
       "      <td>Theft</td>\n",
       "      <td>6</td>\n",
       "      <td>Night</td>\n",
       "      <td>Saturday</td>\n",
       "    </tr>\n",
       "    <tr>\n",
       "      <th>40881</th>\n",
       "      <td>GE</td>\n",
       "      <td>78703.0</td>\n",
       "      <td>RESIDENCE / HOME</td>\n",
       "      <td>Aggravated Assault</td>\n",
       "      <td>6</td>\n",
       "      <td>Night</td>\n",
       "      <td>Saturday</td>\n",
       "    </tr>\n",
       "    <tr>\n",
       "      <th>40882</th>\n",
       "      <td>GE</td>\n",
       "      <td>78701.0</td>\n",
       "      <td>BAR / NIGHT CLUB</td>\n",
       "      <td>Theft</td>\n",
       "      <td>6</td>\n",
       "      <td>Night</td>\n",
       "      <td>Saturday</td>\n",
       "    </tr>\n",
       "    <tr>\n",
       "      <th>40883</th>\n",
       "      <td>ID</td>\n",
       "      <td>78723.0</td>\n",
       "      <td>OTHER / UNKNOWN</td>\n",
       "      <td>Theft</td>\n",
       "      <td>6</td>\n",
       "      <td>Night</td>\n",
       "      <td>Saturday</td>\n",
       "    </tr>\n",
       "    <tr>\n",
       "      <th>40884</th>\n",
       "      <td>FR</td>\n",
       "      <td>78748.0</td>\n",
       "      <td>RESIDENCE / HOME</td>\n",
       "      <td>Auto Theft</td>\n",
       "      <td>6</td>\n",
       "      <td>Night</td>\n",
       "      <td>Saturday</td>\n",
       "    </tr>\n",
       "    <tr>\n",
       "      <th>40885</th>\n",
       "      <td>AD</td>\n",
       "      <td>78759.0</td>\n",
       "      <td>PARKING LOTS / GARAGE</td>\n",
       "      <td>Theft</td>\n",
       "      <td>6</td>\n",
       "      <td>Night</td>\n",
       "      <td>Saturday</td>\n",
       "    </tr>\n",
       "    <tr>\n",
       "      <th>40886</th>\n",
       "      <td>FR</td>\n",
       "      <td>78745.0</td>\n",
       "      <td>RESIDENCE / HOME</td>\n",
       "      <td>Theft</td>\n",
       "      <td>6</td>\n",
       "      <td>Night</td>\n",
       "      <td>Saturday</td>\n",
       "    </tr>\n",
       "    <tr>\n",
       "      <th>40887</th>\n",
       "      <td>ID</td>\n",
       "      <td>78752.0</td>\n",
       "      <td>OTHER / UNKNOWN</td>\n",
       "      <td>Theft</td>\n",
       "      <td>6</td>\n",
       "      <td>Night</td>\n",
       "      <td>Saturday</td>\n",
       "    </tr>\n",
       "    <tr>\n",
       "      <th>40888</th>\n",
       "      <td>ID</td>\n",
       "      <td>78723.0</td>\n",
       "      <td>RESIDENCE / HOME</td>\n",
       "      <td>Burglary</td>\n",
       "      <td>6</td>\n",
       "      <td>Night</td>\n",
       "      <td>Saturday</td>\n",
       "    </tr>\n",
       "    <tr>\n",
       "      <th>40889</th>\n",
       "      <td>ID</td>\n",
       "      <td>78757.0</td>\n",
       "      <td>PARKING LOTS / GARAGE</td>\n",
       "      <td>Auto Theft</td>\n",
       "      <td>6</td>\n",
       "      <td>Night</td>\n",
       "      <td>Saturday</td>\n",
       "    </tr>\n",
       "    <tr>\n",
       "      <th>40890</th>\n",
       "      <td>BA</td>\n",
       "      <td>78730.0</td>\n",
       "      <td>RESIDENCE / HOME</td>\n",
       "      <td>Theft</td>\n",
       "      <td>6</td>\n",
       "      <td>Night</td>\n",
       "      <td>Saturday</td>\n",
       "    </tr>\n",
       "    <tr>\n",
       "      <th>40891</th>\n",
       "      <td>FR</td>\n",
       "      <td>78748.0</td>\n",
       "      <td>STREETS / HWY / ROAD / ALLEY</td>\n",
       "      <td>Theft</td>\n",
       "      <td>6</td>\n",
       "      <td>Night</td>\n",
       "      <td>Saturday</td>\n",
       "    </tr>\n",
       "    <tr>\n",
       "      <th>40892</th>\n",
       "      <td>DA</td>\n",
       "      <td>78749.0</td>\n",
       "      <td>PARKING LOTS / GARAGE</td>\n",
       "      <td>Theft</td>\n",
       "      <td>6</td>\n",
       "      <td>Night</td>\n",
       "      <td>Saturday</td>\n",
       "    </tr>\n",
       "    <tr>\n",
       "      <th>40893</th>\n",
       "      <td>BA</td>\n",
       "      <td>78757.0</td>\n",
       "      <td>PARKING LOTS / GARAGE</td>\n",
       "      <td>Theft</td>\n",
       "      <td>6</td>\n",
       "      <td>Afternoon</td>\n",
       "      <td>Saturday</td>\n",
       "    </tr>\n",
       "    <tr>\n",
       "      <th>40894</th>\n",
       "      <td>CH</td>\n",
       "      <td>78722.0</td>\n",
       "      <td>RESIDENCE / HOME</td>\n",
       "      <td>Theft</td>\n",
       "      <td>6</td>\n",
       "      <td>Afternoon</td>\n",
       "      <td>Saturday</td>\n",
       "    </tr>\n",
       "    <tr>\n",
       "      <th>40895</th>\n",
       "      <td>AD</td>\n",
       "      <td>78758.0</td>\n",
       "      <td>CONVENIENCE STORE</td>\n",
       "      <td>Theft</td>\n",
       "      <td>6</td>\n",
       "      <td>Afternoon</td>\n",
       "      <td>Saturday</td>\n",
       "    </tr>\n",
       "    <tr>\n",
       "      <th>40896</th>\n",
       "      <td>ED</td>\n",
       "      <td>78758.0</td>\n",
       "      <td>PARKING LOTS / GARAGE</td>\n",
       "      <td>Theft</td>\n",
       "      <td>6</td>\n",
       "      <td>Afternoon</td>\n",
       "      <td>Saturday</td>\n",
       "    </tr>\n",
       "    <tr>\n",
       "      <th>40897</th>\n",
       "      <td>ED</td>\n",
       "      <td>78758.0</td>\n",
       "      <td>PARKING LOTS / GARAGE</td>\n",
       "      <td>Theft</td>\n",
       "      <td>6</td>\n",
       "      <td>Afternoon</td>\n",
       "      <td>Saturday</td>\n",
       "    </tr>\n",
       "    <tr>\n",
       "      <th>40898</th>\n",
       "      <td>FR</td>\n",
       "      <td>78748.0</td>\n",
       "      <td>RESIDENCE / HOME</td>\n",
       "      <td>Theft</td>\n",
       "      <td>6</td>\n",
       "      <td>Afternoon</td>\n",
       "      <td>Saturday</td>\n",
       "    </tr>\n",
       "    <tr>\n",
       "      <th>40899</th>\n",
       "      <td>FR</td>\n",
       "      <td>78748.0</td>\n",
       "      <td>RESIDENCE / HOME</td>\n",
       "      <td>Theft</td>\n",
       "      <td>6</td>\n",
       "      <td>Afternoon</td>\n",
       "      <td>Saturday</td>\n",
       "    </tr>\n",
       "    <tr>\n",
       "      <th>40900</th>\n",
       "      <td>CH</td>\n",
       "      <td>78724.0</td>\n",
       "      <td>RESIDENCE / HOME</td>\n",
       "      <td>Aggravated Assault</td>\n",
       "      <td>6</td>\n",
       "      <td>Afternoon</td>\n",
       "      <td>Saturday</td>\n",
       "    </tr>\n",
       "    <tr>\n",
       "      <th>40901</th>\n",
       "      <td>DA</td>\n",
       "      <td>78749.0</td>\n",
       "      <td>PARKING LOTS / GARAGE</td>\n",
       "      <td>Theft</td>\n",
       "      <td>6</td>\n",
       "      <td>Afternoon</td>\n",
       "      <td>Saturday</td>\n",
       "    </tr>\n",
       "    <tr>\n",
       "      <th>40902</th>\n",
       "      <td>FR</td>\n",
       "      <td>78745.0</td>\n",
       "      <td>STREETS / HWY / ROAD / ALLEY</td>\n",
       "      <td>Aggravated Assault</td>\n",
       "      <td>6</td>\n",
       "      <td>Afternoon</td>\n",
       "      <td>Saturday</td>\n",
       "    </tr>\n",
       "    <tr>\n",
       "      <th>40903</th>\n",
       "      <td>CH</td>\n",
       "      <td>78702.0</td>\n",
       "      <td>RESIDENCE / HOME</td>\n",
       "      <td>Theft</td>\n",
       "      <td>6</td>\n",
       "      <td>Afternoon</td>\n",
       "      <td>Saturday</td>\n",
       "    </tr>\n",
       "    <tr>\n",
       "      <th>40904</th>\n",
       "      <td>GE</td>\n",
       "      <td>78701.0</td>\n",
       "      <td>STREETS / HWY / ROAD / ALLEY</td>\n",
       "      <td>Theft</td>\n",
       "      <td>6</td>\n",
       "      <td>Afternoon</td>\n",
       "      <td>Saturday</td>\n",
       "    </tr>\n",
       "    <tr>\n",
       "      <th>40905</th>\n",
       "      <td>HE</td>\n",
       "      <td>78744.0</td>\n",
       "      <td>PARKING LOTS / GARAGE</td>\n",
       "      <td>Theft</td>\n",
       "      <td>6</td>\n",
       "      <td>Afternoon</td>\n",
       "      <td>Saturday</td>\n",
       "    </tr>\n",
       "    <tr>\n",
       "      <th>40906</th>\n",
       "      <td>AP</td>\n",
       "      <td>78719.0</td>\n",
       "      <td>OTHER / UNKNOWN</td>\n",
       "      <td>Theft</td>\n",
       "      <td>6</td>\n",
       "      <td>Afternoon</td>\n",
       "      <td>Saturday</td>\n",
       "    </tr>\n",
       "    <tr>\n",
       "      <th>...</th>\n",
       "      <td>...</td>\n",
       "      <td>...</td>\n",
       "      <td>...</td>\n",
       "      <td>...</td>\n",
       "      <td>...</td>\n",
       "      <td>...</td>\n",
       "      <td>...</td>\n",
       "    </tr>\n",
       "    <tr>\n",
       "      <th>57836</th>\n",
       "      <td>FR</td>\n",
       "      <td>78744.0</td>\n",
       "      <td>RESIDENCE / HOME</td>\n",
       "      <td>Aggravated Assault</td>\n",
       "      <td>1</td>\n",
       "      <td>Night</td>\n",
       "      <td>Monday</td>\n",
       "    </tr>\n",
       "    <tr>\n",
       "      <th>57837</th>\n",
       "      <td>88</td>\n",
       "      <td>78747.0</td>\n",
       "      <td>RESIDENCE / HOME</td>\n",
       "      <td>Aggravated Assault</td>\n",
       "      <td>1</td>\n",
       "      <td>Night</td>\n",
       "      <td>Monday</td>\n",
       "    </tr>\n",
       "    <tr>\n",
       "      <th>57838</th>\n",
       "      <td>AD</td>\n",
       "      <td>78729.0</td>\n",
       "      <td>CAMP / CAMPGROUND</td>\n",
       "      <td>Burglary</td>\n",
       "      <td>1</td>\n",
       "      <td>Night</td>\n",
       "      <td>Monday</td>\n",
       "    </tr>\n",
       "    <tr>\n",
       "      <th>57839</th>\n",
       "      <td>DA</td>\n",
       "      <td>78704.0</td>\n",
       "      <td>OTHER / UNKNOWN</td>\n",
       "      <td>Rape</td>\n",
       "      <td>1</td>\n",
       "      <td>Night</td>\n",
       "      <td>Monday</td>\n",
       "    </tr>\n",
       "    <tr>\n",
       "      <th>57840</th>\n",
       "      <td>HE</td>\n",
       "      <td>78704.0</td>\n",
       "      <td>RESIDENCE / HOME</td>\n",
       "      <td>Theft</td>\n",
       "      <td>1</td>\n",
       "      <td>Night</td>\n",
       "      <td>Monday</td>\n",
       "    </tr>\n",
       "    <tr>\n",
       "      <th>57841</th>\n",
       "      <td>GE</td>\n",
       "      <td>78701.0</td>\n",
       "      <td>STREETS / HWY / ROAD / ALLEY</td>\n",
       "      <td>Theft</td>\n",
       "      <td>1</td>\n",
       "      <td>Night</td>\n",
       "      <td>Monday</td>\n",
       "    </tr>\n",
       "    <tr>\n",
       "      <th>57842</th>\n",
       "      <td>GE</td>\n",
       "      <td>78701.0</td>\n",
       "      <td>BAR / NIGHT CLUB</td>\n",
       "      <td>Aggravated Assault</td>\n",
       "      <td>1</td>\n",
       "      <td>Night</td>\n",
       "      <td>Monday</td>\n",
       "    </tr>\n",
       "    <tr>\n",
       "      <th>57843</th>\n",
       "      <td>HE</td>\n",
       "      <td>78741.0</td>\n",
       "      <td>RESIDENCE / HOME</td>\n",
       "      <td>Theft</td>\n",
       "      <td>1</td>\n",
       "      <td>Night</td>\n",
       "      <td>Monday</td>\n",
       "    </tr>\n",
       "    <tr>\n",
       "      <th>57844</th>\n",
       "      <td>DA</td>\n",
       "      <td>78745.0</td>\n",
       "      <td>RESIDENCE / HOME</td>\n",
       "      <td>Rape</td>\n",
       "      <td>1</td>\n",
       "      <td>Night</td>\n",
       "      <td>Monday</td>\n",
       "    </tr>\n",
       "    <tr>\n",
       "      <th>57845</th>\n",
       "      <td>FR</td>\n",
       "      <td>78745.0</td>\n",
       "      <td>RESIDENCE / HOME</td>\n",
       "      <td>Theft</td>\n",
       "      <td>1</td>\n",
       "      <td>Night</td>\n",
       "      <td>Monday</td>\n",
       "    </tr>\n",
       "    <tr>\n",
       "      <th>57846</th>\n",
       "      <td>DA</td>\n",
       "      <td>78749.0</td>\n",
       "      <td>RESIDENCE / HOME</td>\n",
       "      <td>Aggravated Assault</td>\n",
       "      <td>1</td>\n",
       "      <td>Night</td>\n",
       "      <td>Monday</td>\n",
       "    </tr>\n",
       "    <tr>\n",
       "      <th>57847</th>\n",
       "      <td>GE</td>\n",
       "      <td>78701.0</td>\n",
       "      <td>CONVENIENCE STORE</td>\n",
       "      <td>Theft</td>\n",
       "      <td>1</td>\n",
       "      <td>Night</td>\n",
       "      <td>Monday</td>\n",
       "    </tr>\n",
       "    <tr>\n",
       "      <th>57848</th>\n",
       "      <td>BA</td>\n",
       "      <td>78705.0</td>\n",
       "      <td>STREETS / HWY / ROAD / ALLEY</td>\n",
       "      <td>Theft</td>\n",
       "      <td>1</td>\n",
       "      <td>Night</td>\n",
       "      <td>Monday</td>\n",
       "    </tr>\n",
       "    <tr>\n",
       "      <th>57849</th>\n",
       "      <td>ID</td>\n",
       "      <td>78752.0</td>\n",
       "      <td>BAR / NIGHT CLUB</td>\n",
       "      <td>Theft</td>\n",
       "      <td>1</td>\n",
       "      <td>Night</td>\n",
       "      <td>Monday</td>\n",
       "    </tr>\n",
       "    <tr>\n",
       "      <th>57850</th>\n",
       "      <td>DA</td>\n",
       "      <td>78745.0</td>\n",
       "      <td>PARKING LOTS / GARAGE</td>\n",
       "      <td>Theft</td>\n",
       "      <td>1</td>\n",
       "      <td>Night</td>\n",
       "      <td>Monday</td>\n",
       "    </tr>\n",
       "    <tr>\n",
       "      <th>57851</th>\n",
       "      <td>ED</td>\n",
       "      <td>78753.0</td>\n",
       "      <td>PARKING LOTS / GARAGE</td>\n",
       "      <td>Rape</td>\n",
       "      <td>1</td>\n",
       "      <td>Night</td>\n",
       "      <td>Monday</td>\n",
       "    </tr>\n",
       "    <tr>\n",
       "      <th>57852</th>\n",
       "      <td>GE</td>\n",
       "      <td>78701.0</td>\n",
       "      <td>STREETS / HWY / ROAD / ALLEY</td>\n",
       "      <td>Robbery</td>\n",
       "      <td>1</td>\n",
       "      <td>Night</td>\n",
       "      <td>Monday</td>\n",
       "    </tr>\n",
       "    <tr>\n",
       "      <th>57853</th>\n",
       "      <td>GE</td>\n",
       "      <td>78701.0</td>\n",
       "      <td>HOTEL / MOTEL / ETC.</td>\n",
       "      <td>Aggravated Assault</td>\n",
       "      <td>1</td>\n",
       "      <td>Night</td>\n",
       "      <td>Monday</td>\n",
       "    </tr>\n",
       "    <tr>\n",
       "      <th>57854</th>\n",
       "      <td>ED</td>\n",
       "      <td>78753.0</td>\n",
       "      <td>RESIDENCE / HOME</td>\n",
       "      <td>Aggravated Assault</td>\n",
       "      <td>1</td>\n",
       "      <td>Night</td>\n",
       "      <td>Monday</td>\n",
       "    </tr>\n",
       "    <tr>\n",
       "      <th>57855</th>\n",
       "      <td>AD</td>\n",
       "      <td>78759.0</td>\n",
       "      <td>RESIDENCE / HOME</td>\n",
       "      <td>Aggravated Assault</td>\n",
       "      <td>1</td>\n",
       "      <td>Night</td>\n",
       "      <td>Monday</td>\n",
       "    </tr>\n",
       "    <tr>\n",
       "      <th>57856</th>\n",
       "      <td>GE</td>\n",
       "      <td>78701.0</td>\n",
       "      <td>STREETS / HWY / ROAD / ALLEY</td>\n",
       "      <td>Theft</td>\n",
       "      <td>1</td>\n",
       "      <td>Night</td>\n",
       "      <td>Monday</td>\n",
       "    </tr>\n",
       "    <tr>\n",
       "      <th>57857</th>\n",
       "      <td>AD</td>\n",
       "      <td>78758.0</td>\n",
       "      <td>BAR / NIGHT CLUB</td>\n",
       "      <td>Theft</td>\n",
       "      <td>1</td>\n",
       "      <td>Night</td>\n",
       "      <td>Monday</td>\n",
       "    </tr>\n",
       "    <tr>\n",
       "      <th>57858</th>\n",
       "      <td>AD</td>\n",
       "      <td>78758.0</td>\n",
       "      <td>HOTEL / MOTEL / ETC.</td>\n",
       "      <td>Rape</td>\n",
       "      <td>1</td>\n",
       "      <td>Night</td>\n",
       "      <td>Monday</td>\n",
       "    </tr>\n",
       "    <tr>\n",
       "      <th>57859</th>\n",
       "      <td>ED</td>\n",
       "      <td>78753.0</td>\n",
       "      <td>RESIDENCE / HOME</td>\n",
       "      <td>Rape</td>\n",
       "      <td>1</td>\n",
       "      <td>Night</td>\n",
       "      <td>Monday</td>\n",
       "    </tr>\n",
       "    <tr>\n",
       "      <th>57860</th>\n",
       "      <td>BA</td>\n",
       "      <td>78751.0</td>\n",
       "      <td>PARKING LOTS / GARAGE</td>\n",
       "      <td>Theft</td>\n",
       "      <td>1</td>\n",
       "      <td>Night</td>\n",
       "      <td>Monday</td>\n",
       "    </tr>\n",
       "    <tr>\n",
       "      <th>57861</th>\n",
       "      <td>DA</td>\n",
       "      <td>78745.0</td>\n",
       "      <td>ABANDONED/CONDEMNED STRUCTURE</td>\n",
       "      <td>Theft</td>\n",
       "      <td>1</td>\n",
       "      <td>Night</td>\n",
       "      <td>Monday</td>\n",
       "    </tr>\n",
       "    <tr>\n",
       "      <th>57862</th>\n",
       "      <td>ID</td>\n",
       "      <td>78753.0</td>\n",
       "      <td>PARKING LOTS / GARAGE</td>\n",
       "      <td>Theft</td>\n",
       "      <td>1</td>\n",
       "      <td>Night</td>\n",
       "      <td>Monday</td>\n",
       "    </tr>\n",
       "    <tr>\n",
       "      <th>57863</th>\n",
       "      <td>ED</td>\n",
       "      <td>78753.0</td>\n",
       "      <td>OTHER / UNKNOWN</td>\n",
       "      <td>Burglary</td>\n",
       "      <td>1</td>\n",
       "      <td>Night</td>\n",
       "      <td>Monday</td>\n",
       "    </tr>\n",
       "    <tr>\n",
       "      <th>57864</th>\n",
       "      <td>ID</td>\n",
       "      <td>78752.0</td>\n",
       "      <td>GAS / SERVICE STATIONS</td>\n",
       "      <td>Theft</td>\n",
       "      <td>1</td>\n",
       "      <td>Night</td>\n",
       "      <td>Monday</td>\n",
       "    </tr>\n",
       "    <tr>\n",
       "      <th>57865</th>\n",
       "      <td>BA</td>\n",
       "      <td>78759.0</td>\n",
       "      <td>RESIDENCE / HOME</td>\n",
       "      <td>Theft</td>\n",
       "      <td>1</td>\n",
       "      <td>Night</td>\n",
       "      <td>Monday</td>\n",
       "    </tr>\n",
       "  </tbody>\n",
       "</table>\n",
       "<p>16989 rows × 7 columns</p>\n",
       "</div>"
      ],
      "text/plain": [
       "      APD Sector  Zip Code                  Location Type  \\\n",
       "40877         ID   78723.0               RESIDENCE / HOME   \n",
       "40878         HE   78741.0          PARKING LOTS / GARAGE   \n",
       "40879         DA   78749.0               RESIDENCE / HOME   \n",
       "40880         AD   78750.0  ABANDONED/CONDEMNED STRUCTURE   \n",
       "40881         GE   78703.0               RESIDENCE / HOME   \n",
       "40882         GE   78701.0               BAR / NIGHT CLUB   \n",
       "40883         ID   78723.0                OTHER / UNKNOWN   \n",
       "40884         FR   78748.0               RESIDENCE / HOME   \n",
       "40885         AD   78759.0          PARKING LOTS / GARAGE   \n",
       "40886         FR   78745.0               RESIDENCE / HOME   \n",
       "40887         ID   78752.0                OTHER / UNKNOWN   \n",
       "40888         ID   78723.0               RESIDENCE / HOME   \n",
       "40889         ID   78757.0          PARKING LOTS / GARAGE   \n",
       "40890         BA   78730.0               RESIDENCE / HOME   \n",
       "40891         FR   78748.0   STREETS / HWY / ROAD / ALLEY   \n",
       "40892         DA   78749.0          PARKING LOTS / GARAGE   \n",
       "40893         BA   78757.0          PARKING LOTS / GARAGE   \n",
       "40894         CH   78722.0               RESIDENCE / HOME   \n",
       "40895         AD   78758.0              CONVENIENCE STORE   \n",
       "40896         ED   78758.0          PARKING LOTS / GARAGE   \n",
       "40897         ED   78758.0          PARKING LOTS / GARAGE   \n",
       "40898         FR   78748.0               RESIDENCE / HOME   \n",
       "40899         FR   78748.0               RESIDENCE / HOME   \n",
       "40900         CH   78724.0               RESIDENCE / HOME   \n",
       "40901         DA   78749.0          PARKING LOTS / GARAGE   \n",
       "40902         FR   78745.0   STREETS / HWY / ROAD / ALLEY   \n",
       "40903         CH   78702.0               RESIDENCE / HOME   \n",
       "40904         GE   78701.0   STREETS / HWY / ROAD / ALLEY   \n",
       "40905         HE   78744.0          PARKING LOTS / GARAGE   \n",
       "40906         AP   78719.0                OTHER / UNKNOWN   \n",
       "...          ...       ...                            ...   \n",
       "57836         FR   78744.0               RESIDENCE / HOME   \n",
       "57837         88   78747.0               RESIDENCE / HOME   \n",
       "57838         AD   78729.0              CAMP / CAMPGROUND   \n",
       "57839         DA   78704.0                OTHER / UNKNOWN   \n",
       "57840         HE   78704.0               RESIDENCE / HOME   \n",
       "57841         GE   78701.0   STREETS / HWY / ROAD / ALLEY   \n",
       "57842         GE   78701.0               BAR / NIGHT CLUB   \n",
       "57843         HE   78741.0               RESIDENCE / HOME   \n",
       "57844         DA   78745.0               RESIDENCE / HOME   \n",
       "57845         FR   78745.0               RESIDENCE / HOME   \n",
       "57846         DA   78749.0               RESIDENCE / HOME   \n",
       "57847         GE   78701.0              CONVENIENCE STORE   \n",
       "57848         BA   78705.0   STREETS / HWY / ROAD / ALLEY   \n",
       "57849         ID   78752.0               BAR / NIGHT CLUB   \n",
       "57850         DA   78745.0          PARKING LOTS / GARAGE   \n",
       "57851         ED   78753.0          PARKING LOTS / GARAGE   \n",
       "57852         GE   78701.0   STREETS / HWY / ROAD / ALLEY   \n",
       "57853         GE   78701.0           HOTEL / MOTEL / ETC.   \n",
       "57854         ED   78753.0               RESIDENCE / HOME   \n",
       "57855         AD   78759.0               RESIDENCE / HOME   \n",
       "57856         GE   78701.0   STREETS / HWY / ROAD / ALLEY   \n",
       "57857         AD   78758.0               BAR / NIGHT CLUB   \n",
       "57858         AD   78758.0           HOTEL / MOTEL / ETC.   \n",
       "57859         ED   78753.0               RESIDENCE / HOME   \n",
       "57860         BA   78751.0          PARKING LOTS / GARAGE   \n",
       "57861         DA   78745.0  ABANDONED/CONDEMNED STRUCTURE   \n",
       "57862         ID   78753.0          PARKING LOTS / GARAGE   \n",
       "57863         ED   78753.0                OTHER / UNKNOWN   \n",
       "57864         ID   78752.0         GAS / SERVICE STATIONS   \n",
       "57865         BA   78759.0               RESIDENCE / HOME   \n",
       "\n",
       "      Category Description  Month_names  Day_Night dayofweek  \n",
       "40877   Aggravated Assault            6      Night  Saturday  \n",
       "40878           Auto Theft            6      Night  Saturday  \n",
       "40879             Burglary            6      Night  Saturday  \n",
       "40880                Theft            6      Night  Saturday  \n",
       "40881   Aggravated Assault            6      Night  Saturday  \n",
       "40882                Theft            6      Night  Saturday  \n",
       "40883                Theft            6      Night  Saturday  \n",
       "40884           Auto Theft            6      Night  Saturday  \n",
       "40885                Theft            6      Night  Saturday  \n",
       "40886                Theft            6      Night  Saturday  \n",
       "40887                Theft            6      Night  Saturday  \n",
       "40888             Burglary            6      Night  Saturday  \n",
       "40889           Auto Theft            6      Night  Saturday  \n",
       "40890                Theft            6      Night  Saturday  \n",
       "40891                Theft            6      Night  Saturday  \n",
       "40892                Theft            6      Night  Saturday  \n",
       "40893                Theft            6  Afternoon  Saturday  \n",
       "40894                Theft            6  Afternoon  Saturday  \n",
       "40895                Theft            6  Afternoon  Saturday  \n",
       "40896                Theft            6  Afternoon  Saturday  \n",
       "40897                Theft            6  Afternoon  Saturday  \n",
       "40898                Theft            6  Afternoon  Saturday  \n",
       "40899                Theft            6  Afternoon  Saturday  \n",
       "40900   Aggravated Assault            6  Afternoon  Saturday  \n",
       "40901                Theft            6  Afternoon  Saturday  \n",
       "40902   Aggravated Assault            6  Afternoon  Saturday  \n",
       "40903                Theft            6  Afternoon  Saturday  \n",
       "40904                Theft            6  Afternoon  Saturday  \n",
       "40905                Theft            6  Afternoon  Saturday  \n",
       "40906                Theft            6  Afternoon  Saturday  \n",
       "...                    ...          ...        ...       ...  \n",
       "57836   Aggravated Assault            1      Night    Monday  \n",
       "57837   Aggravated Assault            1      Night    Monday  \n",
       "57838             Burglary            1      Night    Monday  \n",
       "57839                 Rape            1      Night    Monday  \n",
       "57840                Theft            1      Night    Monday  \n",
       "57841                Theft            1      Night    Monday  \n",
       "57842   Aggravated Assault            1      Night    Monday  \n",
       "57843                Theft            1      Night    Monday  \n",
       "57844                 Rape            1      Night    Monday  \n",
       "57845                Theft            1      Night    Monday  \n",
       "57846   Aggravated Assault            1      Night    Monday  \n",
       "57847                Theft            1      Night    Monday  \n",
       "57848                Theft            1      Night    Monday  \n",
       "57849                Theft            1      Night    Monday  \n",
       "57850                Theft            1      Night    Monday  \n",
       "57851                 Rape            1      Night    Monday  \n",
       "57852              Robbery            1      Night    Monday  \n",
       "57853   Aggravated Assault            1      Night    Monday  \n",
       "57854   Aggravated Assault            1      Night    Monday  \n",
       "57855   Aggravated Assault            1      Night    Monday  \n",
       "57856                Theft            1      Night    Monday  \n",
       "57857                Theft            1      Night    Monday  \n",
       "57858                 Rape            1      Night    Monday  \n",
       "57859                 Rape            1      Night    Monday  \n",
       "57860                Theft            1      Night    Monday  \n",
       "57861                Theft            1      Night    Monday  \n",
       "57862                Theft            1      Night    Monday  \n",
       "57863             Burglary            1      Night    Monday  \n",
       "57864                Theft            1      Night    Monday  \n",
       "57865                Theft            1      Night    Monday  \n",
       "\n",
       "[16989 rows x 7 columns]"
      ]
     },
     "execution_count": 45,
     "metadata": {},
     "output_type": "execute_result"
    }
   ],
   "source": [
    "cl_2018_n = cl_2018.drop(columns=[\"CD\",\"Report Time\",\"Report Date\",\"Occurred Date\",\"Occurred Time\",\"Occurred_year\",\"Month\",\"Day\"])\n",
    "cl_2018_n = cl_2018_n[cl_2018_n[\"Month_names\"]<7]\n",
    "cl_2018_n "
   ]
  },
  {
   "cell_type": "code",
   "execution_count": 46,
   "metadata": {},
   "outputs": [
    {
     "name": "stdout",
     "output_type": "stream",
     "text": [
      "Populating the interactive namespace from numpy and matplotlib\n"
     ]
    },
    {
     "name": "stderr",
     "output_type": "stream",
     "text": [
      "C:\\Users\\sayes\\Anaconda3\\lib\\site-packages\\IPython\\core\\magics\\pylab.py:160: UserWarning: pylab import has clobbered these variables: ['datetime']\n",
      "`%matplotlib` prevents importing * from pylab and numpy\n",
      "  \"\\n`%matplotlib` prevents importing * from pylab and numpy\"\n"
     ]
    },
    {
     "data": {
      "text/plain": [
       "0    0.916475\n",
       "1    0.083525\n",
       "Name: target, dtype: float64"
      ]
     },
     "execution_count": 46,
     "metadata": {},
     "output_type": "execute_result"
    }
   ],
   "source": [
    "from patsy import dmatrices\n",
    "%pylab inline\n",
    "# cl_2018_n[\"Violent Crime\"] = cl_2018_n[\"Category Description\"]\n",
    "\n",
    "def con(s):\n",
    "    if s == \"Aggravated Assault\"or s==\"Rape\":\n",
    "        z=1\n",
    "    else:\n",
    "        z=0\n",
    "\n",
    "    return z \n",
    "\n",
    "cl_2018_n[\"target\"]= cl_2018_n[\"Category Description\"].map(con)\n",
    "a = cl_2018_n[\"target\"].value_counts().sum()\n",
    "cl_2018_n[\"target\"].value_counts()/a"
   ]
  }
 ],
 "metadata": {
  "kernelspec": {
   "display_name": "Python 3",
   "language": "python",
   "name": "python3"
  },
  "language_info": {
   "codemirror_mode": {
    "name": "ipython",
    "version": 3
   },
   "file_extension": ".py",
   "mimetype": "text/x-python",
   "name": "python",
   "nbconvert_exporter": "python",
   "pygments_lexer": "ipython3",
   "version": "3.7.3"
  }
 },
 "nbformat": 4,
 "nbformat_minor": 2
}
