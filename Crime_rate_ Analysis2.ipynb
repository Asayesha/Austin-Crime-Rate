{
 "cells": [
  {
   "cell_type": "markdown",
   "metadata": {},
   "source": [
    "### Reading Data"
   ]
  },
  {
   "cell_type": "code",
   "execution_count": 1,
   "metadata": {},
   "outputs": [
    {
     "name": "stdout",
     "output_type": "stream",
     "text": [
      "Requirement already satisfied: gmplot in /Users/maverick/anaconda3/lib/python3.7/site-packages (1.2.0)\n",
      "Requirement already satisfied: requests in /Users/maverick/anaconda3/lib/python3.7/site-packages (from gmplot) (2.22.0)\n",
      "Requirement already satisfied: chardet<3.1.0,>=3.0.2 in /Users/maverick/anaconda3/lib/python3.7/site-packages (from requests->gmplot) (3.0.4)\n",
      "Requirement already satisfied: idna<2.9,>=2.5 in /Users/maverick/anaconda3/lib/python3.7/site-packages (from requests->gmplot) (2.8)\n",
      "Requirement already satisfied: certifi>=2017.4.17 in /Users/maverick/anaconda3/lib/python3.7/site-packages (from requests->gmplot) (2019.9.11)\n",
      "Requirement already satisfied: urllib3!=1.25.0,!=1.25.1,<1.26,>=1.21.1 in /Users/maverick/anaconda3/lib/python3.7/site-packages (from requests->gmplot) (1.24.2)\n"
     ]
    }
   ],
   "source": [
    "!pip install gmplot"
   ]
  },
  {
   "cell_type": "code",
   "execution_count": 2,
   "metadata": {},
   "outputs": [
    {
     "name": "stdout",
     "output_type": "stream",
     "text": [
      "Requirement already satisfied: gmaps in /Users/maverick/anaconda3/lib/python3.7/site-packages (0.9.0)\n",
      "Requirement already satisfied: six in /Users/maverick/anaconda3/lib/python3.7/site-packages (from gmaps) (1.12.0)\n",
      "Requirement already satisfied: ipython>=5.3.0 in /Users/maverick/anaconda3/lib/python3.7/site-packages (from gmaps) (7.6.1)\n",
      "Requirement already satisfied: ipywidgets>=7.0.0 in /Users/maverick/anaconda3/lib/python3.7/site-packages (from gmaps) (7.5.0)\n",
      "Requirement already satisfied: traitlets>=4.3.0 in /Users/maverick/anaconda3/lib/python3.7/site-packages (from gmaps) (4.3.2)\n",
      "Requirement already satisfied: geojson>=2.0.0 in /Users/maverick/anaconda3/lib/python3.7/site-packages (from gmaps) (2.5.0)\n",
      "Requirement already satisfied: setuptools>=18.5 in /Users/maverick/anaconda3/lib/python3.7/site-packages (from ipython>=5.3.0->gmaps) (41.0.1)\n",
      "Requirement already satisfied: pygments in /Users/maverick/anaconda3/lib/python3.7/site-packages (from ipython>=5.3.0->gmaps) (2.4.2)\n",
      "Requirement already satisfied: decorator in /Users/maverick/anaconda3/lib/python3.7/site-packages (from ipython>=5.3.0->gmaps) (4.4.0)\n",
      "Requirement already satisfied: backcall in /Users/maverick/anaconda3/lib/python3.7/site-packages (from ipython>=5.3.0->gmaps) (0.1.0)\n",
      "Requirement already satisfied: prompt-toolkit<2.1.0,>=2.0.0 in /Users/maverick/anaconda3/lib/python3.7/site-packages (from ipython>=5.3.0->gmaps) (2.0.9)\n",
      "Requirement already satisfied: appnope; sys_platform == \"darwin\" in /Users/maverick/anaconda3/lib/python3.7/site-packages (from ipython>=5.3.0->gmaps) (0.1.0)\n",
      "Requirement already satisfied: jedi>=0.10 in /Users/maverick/anaconda3/lib/python3.7/site-packages (from ipython>=5.3.0->gmaps) (0.13.3)\n",
      "Requirement already satisfied: pexpect; sys_platform != \"win32\" in /Users/maverick/anaconda3/lib/python3.7/site-packages (from ipython>=5.3.0->gmaps) (4.7.0)\n",
      "Requirement already satisfied: pickleshare in /Users/maverick/anaconda3/lib/python3.7/site-packages (from ipython>=5.3.0->gmaps) (0.7.5)\n",
      "Requirement already satisfied: nbformat>=4.2.0 in /Users/maverick/anaconda3/lib/python3.7/site-packages (from ipywidgets>=7.0.0->gmaps) (4.4.0)\n",
      "Requirement already satisfied: widgetsnbextension~=3.5.0 in /Users/maverick/anaconda3/lib/python3.7/site-packages (from ipywidgets>=7.0.0->gmaps) (3.5.0)\n",
      "Requirement already satisfied: ipykernel>=4.5.1 in /Users/maverick/anaconda3/lib/python3.7/site-packages (from ipywidgets>=7.0.0->gmaps) (5.1.1)\n",
      "Requirement already satisfied: ipython-genutils in /Users/maverick/anaconda3/lib/python3.7/site-packages (from traitlets>=4.3.0->gmaps) (0.2.0)\n",
      "Requirement already satisfied: wcwidth in /Users/maverick/anaconda3/lib/python3.7/site-packages (from prompt-toolkit<2.1.0,>=2.0.0->ipython>=5.3.0->gmaps) (0.1.7)\n",
      "Requirement already satisfied: parso>=0.3.0 in /Users/maverick/anaconda3/lib/python3.7/site-packages (from jedi>=0.10->ipython>=5.3.0->gmaps) (0.5.0)\n",
      "Requirement already satisfied: ptyprocess>=0.5 in /Users/maverick/anaconda3/lib/python3.7/site-packages (from pexpect; sys_platform != \"win32\"->ipython>=5.3.0->gmaps) (0.6.0)\n",
      "Requirement already satisfied: jsonschema!=2.5.0,>=2.4 in /Users/maverick/anaconda3/lib/python3.7/site-packages (from nbformat>=4.2.0->ipywidgets>=7.0.0->gmaps) (3.0.1)\n",
      "Requirement already satisfied: jupyter-core in /Users/maverick/anaconda3/lib/python3.7/site-packages (from nbformat>=4.2.0->ipywidgets>=7.0.0->gmaps) (4.5.0)\n",
      "Requirement already satisfied: notebook>=4.4.1 in /Users/maverick/anaconda3/lib/python3.7/site-packages (from widgetsnbextension~=3.5.0->ipywidgets>=7.0.0->gmaps) (6.0.0)\n",
      "Requirement already satisfied: tornado>=4.2 in /Users/maverick/anaconda3/lib/python3.7/site-packages (from ipykernel>=4.5.1->ipywidgets>=7.0.0->gmaps) (6.0.3)\n",
      "Requirement already satisfied: jupyter-client in /Users/maverick/anaconda3/lib/python3.7/site-packages (from ipykernel>=4.5.1->ipywidgets>=7.0.0->gmaps) (5.3.1)\n",
      "Requirement already satisfied: attrs>=17.4.0 in /Users/maverick/anaconda3/lib/python3.7/site-packages (from jsonschema!=2.5.0,>=2.4->nbformat>=4.2.0->ipywidgets>=7.0.0->gmaps) (19.1.0)\n",
      "Requirement already satisfied: pyrsistent>=0.14.0 in /Users/maverick/anaconda3/lib/python3.7/site-packages (from jsonschema!=2.5.0,>=2.4->nbformat>=4.2.0->ipywidgets>=7.0.0->gmaps) (0.14.11)\n",
      "Requirement already satisfied: terminado>=0.8.1 in /Users/maverick/anaconda3/lib/python3.7/site-packages (from notebook>=4.4.1->widgetsnbextension~=3.5.0->ipywidgets>=7.0.0->gmaps) (0.8.2)\n",
      "Requirement already satisfied: prometheus-client in /Users/maverick/anaconda3/lib/python3.7/site-packages (from notebook>=4.4.1->widgetsnbextension~=3.5.0->ipywidgets>=7.0.0->gmaps) (0.7.1)\n",
      "Requirement already satisfied: jinja2 in /Users/maverick/anaconda3/lib/python3.7/site-packages (from notebook>=4.4.1->widgetsnbextension~=3.5.0->ipywidgets>=7.0.0->gmaps) (2.10.1)\n",
      "Requirement already satisfied: Send2Trash in /Users/maverick/anaconda3/lib/python3.7/site-packages (from notebook>=4.4.1->widgetsnbextension~=3.5.0->ipywidgets>=7.0.0->gmaps) (1.5.0)\n",
      "Requirement already satisfied: nbconvert in /Users/maverick/anaconda3/lib/python3.7/site-packages (from notebook>=4.4.1->widgetsnbextension~=3.5.0->ipywidgets>=7.0.0->gmaps) (5.5.0)\n",
      "Requirement already satisfied: pyzmq>=17 in /Users/maverick/anaconda3/lib/python3.7/site-packages (from notebook>=4.4.1->widgetsnbextension~=3.5.0->ipywidgets>=7.0.0->gmaps) (18.0.0)\n",
      "Requirement already satisfied: python-dateutil>=2.1 in /Users/maverick/anaconda3/lib/python3.7/site-packages (from jupyter-client->ipykernel>=4.5.1->ipywidgets>=7.0.0->gmaps) (2.8.0)\n",
      "Requirement already satisfied: MarkupSafe>=0.23 in /Users/maverick/anaconda3/lib/python3.7/site-packages (from jinja2->notebook>=4.4.1->widgetsnbextension~=3.5.0->ipywidgets>=7.0.0->gmaps) (1.1.1)\n",
      "Requirement already satisfied: defusedxml in /Users/maverick/anaconda3/lib/python3.7/site-packages (from nbconvert->notebook>=4.4.1->widgetsnbextension~=3.5.0->ipywidgets>=7.0.0->gmaps) (0.6.0)\n",
      "Requirement already satisfied: mistune>=0.8.1 in /Users/maverick/anaconda3/lib/python3.7/site-packages (from nbconvert->notebook>=4.4.1->widgetsnbextension~=3.5.0->ipywidgets>=7.0.0->gmaps) (0.8.4)\n",
      "Requirement already satisfied: entrypoints>=0.2.2 in /Users/maverick/anaconda3/lib/python3.7/site-packages (from nbconvert->notebook>=4.4.1->widgetsnbextension~=3.5.0->ipywidgets>=7.0.0->gmaps) (0.3)\n",
      "Requirement already satisfied: bleach in /Users/maverick/anaconda3/lib/python3.7/site-packages (from nbconvert->notebook>=4.4.1->widgetsnbextension~=3.5.0->ipywidgets>=7.0.0->gmaps) (3.1.0)\n",
      "Requirement already satisfied: testpath in /Users/maverick/anaconda3/lib/python3.7/site-packages (from nbconvert->notebook>=4.4.1->widgetsnbextension~=3.5.0->ipywidgets>=7.0.0->gmaps) (0.4.2)\n",
      "Requirement already satisfied: pandocfilters>=1.4.1 in /Users/maverick/anaconda3/lib/python3.7/site-packages (from nbconvert->notebook>=4.4.1->widgetsnbextension~=3.5.0->ipywidgets>=7.0.0->gmaps) (1.4.2)\n",
      "Requirement already satisfied: webencodings in /Users/maverick/anaconda3/lib/python3.7/site-packages (from bleach->nbconvert->notebook>=4.4.1->widgetsnbextension~=3.5.0->ipywidgets>=7.0.0->gmaps) (0.5.1)\n"
     ]
    }
   ],
   "source": [
    "!pip install gmaps"
   ]
  },
  {
   "cell_type": "code",
   "execution_count": 3,
   "metadata": {},
   "outputs": [
    {
     "name": "stdout",
     "output_type": "stream",
     "text": [
      "Requirement already satisfied: unicode in /Users/maverick/anaconda3/lib/python3.7/site-packages (2.7)\r\n"
     ]
    }
   ],
   "source": [
    "!pip install unicode"
   ]
  },
  {
   "cell_type": "code",
   "execution_count": 4,
   "metadata": {},
   "outputs": [],
   "source": [
    "from pandas import Series, DataFrame\n",
    "import pandas as pd\n",
    "import numpy\n",
    "from bokeh.models import LabelSet, ColumnDataSource\n",
    "from math import pi\n",
    "from bokeh.io import output_file, show\n",
    "from bokeh.palettes import Category20c\n",
    "from bokeh.plotting import figure\n",
    "from bokeh.transform import cumsum\n",
    "from bokeh.palettes import Spectral10\n",
    "from bokeh.transform import factor_cmap\n",
    "from gmplot import gmplot\n",
    "import gmaps\n",
    "%matplotlib inline\n",
    "from IPython.core.interactiveshell import InteractiveShell\n",
    "InteractiveShell.ast_node_interactivity = \"all\"\n",
    "\n",
    "\n",
    "df = pd.read_csv('/Users/maverick/Documents/MSBA/MSBA SUMMER SEM/HW-python/project/Crime_cleaned.csv')\n",
    "\n",
    "\n"
   ]
  },
  {
   "cell_type": "markdown",
   "metadata": {},
   "source": [
    "### Cleaning APD Sector for entire data"
   ]
  },
  {
   "cell_type": "code",
   "execution_count": 5,
   "metadata": {},
   "outputs": [],
   "source": [
    "df['Incident Number']=df['Incident Number'].astype(str)"
   ]
  },
  {
   "cell_type": "code",
   "execution_count": null,
   "metadata": {},
   "outputs": [],
   "source": []
  },
  {
   "cell_type": "code",
   "execution_count": 6,
   "metadata": {},
   "outputs": [
    {
     "data": {
      "text/plain": [
       "DAVID      53083\n",
       "EDWARD     48698\n",
       "FRANK      44086\n",
       "BAKER      42920\n",
       "ADAM       42582\n",
       "IDA        41950\n",
       "HENRY      38127\n",
       "CHARLIE    29277\n",
       "GEORGE     25288\n",
       "APD         1164\n",
       "UT             3\n",
       "Name: APD Sector, dtype: int64"
      ]
     },
     "execution_count": 6,
     "metadata": {},
     "output_type": "execute_result"
    }
   ],
   "source": [
    "indexNames=df[(df['APD Sector'] == 'I') | (df['APD Sector'] == '88') | (df['APD Sector'] == '2') | (df['APD Sector'] == '1')].index\n",
    "\n",
    "df.drop(indexNames , inplace=True)\n",
    "\n",
    "df=df.dropna()\n",
    "\n",
    "df['APD Sector'].value_counts()\n",
    "\n",
    "list_of_sectors=df['APD Sector'].dropna().unique()\n",
    "\n",
    "\n",
    "\n",
    "df_2018=df[df['Incident Number'].apply(lambda x:x[0:4])=='2018']\n",
    "\n",
    "df_2018_APD_values=df_2018['APD Sector'].value_counts()"
   ]
  },
  {
   "cell_type": "markdown",
   "metadata": {},
   "source": [
    "### Count of Crime in each APD sector in 2018"
   ]
  },
  {
   "cell_type": "code",
   "execution_count": 7,
   "metadata": {},
   "outputs": [
    {
     "data": {
      "text/plain": [
       "DAVID      5078\n",
       "ADAM       4786\n",
       "EDWARD     4325\n",
       "BAKER      4046\n",
       "FRANK      3892\n",
       "IDA        3549\n",
       "HENRY      3376\n",
       "GEORGE     2634\n",
       "CHARLIE    2571\n",
       "APD         155\n",
       "Name: APD Sector, dtype: int64"
      ]
     },
     "execution_count": 7,
     "metadata": {},
     "output_type": "execute_result"
    }
   ],
   "source": [
    "df_2018_APD_values"
   ]
  },
  {
   "cell_type": "markdown",
   "metadata": {},
   "source": [
    "### Plot Pie Chart of Top 10 Crime Count in each APD Sector"
   ]
  },
  {
   "cell_type": "code",
   "execution_count": 8,
   "metadata": {},
   "outputs": [],
   "source": [
    "def plot_pie(x,y):\n",
    "    \n",
    "    output_file(\"pie.html\")\n",
    "    \n",
    "    data = pd.Series(x).reset_index(name='value').rename(columns={'index':'sector'})\n",
    "    data['angle'] = data['value']/data['value'].sum() * 2*pi\n",
    "    data['color'] = Category20c[len(x)]\n",
    "\n",
    "    p = figure(plot_height=550, plot_width=850,title=y, toolbar_location=None,\n",
    "               tools=\"hover\", tooltips=\"@sector: @value\", x_range=(-0.5, 1.0))\n",
    "\n",
    "    p.wedge(x=0, y=1, radius=0.45, \n",
    "            start_angle=cumsum('angle', include_zero=True), end_angle=cumsum('angle'),\n",
    "            line_color=\"white\", fill_color='color', legend='sector', source=data)\n",
    "    \n",
    "    data[\"value\"] = data['value'].astype(str)\n",
    "    data[\"value\"] = data[\"value\"].str.pad(35, side = \"left\")\n",
    "    source = ColumnDataSource(data)\n",
    "\n",
    "    p.axis.axis_label=None\n",
    "    p.axis.visible=False\n",
    "    p.grid.grid_line_color = None\n",
    "\n",
    "    show(p)\n",
    "\n",
    "#grouped=df_2018.groupby('APD Sector')\n",
    "\n",
    "#x=(grouped['Highest Offense Description'].get_group('ADAM').value_counts()[:10])\n",
    "\n",
    "#plot_pie(x,'ADAM')"
   ]
  },
  {
   "cell_type": "code",
   "execution_count": 10,
   "metadata": {},
   "outputs": [
    {
     "name": "stdout",
     "output_type": "stream",
     "text": [
      "ADAM\n",
      "AxesSubplot(0.125,0.125;0.775x0.755)\n",
      "APD\n",
      "AxesSubplot(0.125,0.125;0.775x0.755)\n",
      "BAKER\n",
      "AxesSubplot(0.125,0.125;0.775x0.755)\n",
      "CHARLIE\n",
      "AxesSubplot(0.125,0.125;0.775x0.755)\n",
      "DAVID\n",
      "AxesSubplot(0.125,0.125;0.775x0.755)\n",
      "EDWARD\n",
      "AxesSubplot(0.125,0.125;0.775x0.755)\n",
      "FRANK\n",
      "AxesSubplot(0.125,0.125;0.775x0.755)\n",
      "GEORGE\n",
      "AxesSubplot(0.125,0.125;0.775x0.755)\n",
      "HENRY\n",
      "AxesSubplot(0.125,0.125;0.775x0.755)\n",
      "IDA\n",
      "AxesSubplot(0.125,0.125;0.775x0.755)\n"
     ]
    }
   ],
   "source": [
    "def plot_pie_charts(df):\n",
    "\n",
    "    grouped=df_2018.groupby('APD Sector')\n",
    "    for name,group in grouped:\n",
    "        print(name)\n",
    "        print(group['Highest Offense Description'].value_counts()[:10].plot(kind='bar'))\n",
    "        %matplotlib inline\n",
    "        \n",
    "       \n",
    "    df['APD Sector'].values\n",
    "\n",
    "    for each_sector in df_2018['APD Sector'].unique():\n",
    "           \n",
    "        x=(grouped['Highest Offense Description'].get_group(each_sector).value_counts()[:10])\n",
    "        \n",
    "        plot_pie(x,each_sector)\n",
    "               \n",
    "\n",
    "plot_pie_charts(df_2018)\n"
   ]
  },
  {
   "cell_type": "markdown",
   "metadata": {},
   "source": [
    "### Plot Bar Graphs for Crime Count per Population for each APD Sector in 2018"
   ]
  },
  {
   "cell_type": "code",
   "execution_count": 12,
   "metadata": {},
   "outputs": [],
   "source": [
    "def plot_bar(x,y,z):\n",
    "    \n",
    "    if z=='violent':\n",
    "        output_file(\"Violent_bars.html\")\n",
    "    elif z=='non-violent':\n",
    "        output_file(\"Non-Violent_bars.html\")\n",
    "    else:\n",
    "        output_file(\"total_bars.html\")\n",
    "    source = ColumnDataSource(data=dict(fruits=y, counts=x))\n",
    "    \n",
    "    p = figure(x_range=y, plot_height=600,plot_width=900, toolbar_location=None, title=\"\")\n",
    "    p.vbar(x='fruits', top='counts', width=0.8, source=source, legend=\"fruits\",\n",
    "           line_color='white', fill_color=factor_cmap('fruits', palette=Spectral10, factors=y))\n",
    "\n",
    "    p.xgrid.grid_line_color = None\n",
    "    p.y_range.start = 0\n",
    "    #p.y_range.end = 9\n",
    "    p.legend.orientation = \"horizontal\"\n",
    "    p.legend.location = \"top_center\"\n",
    "    \n",
    "    show(p)"
   ]
  },
  {
   "cell_type": "code",
   "execution_count": 13,
   "metadata": {},
   "outputs": [],
   "source": [
    "def plot_bar_graphs(df):\n",
    "\n",
    "    categories= [['Murder','Aggravated Assault','Rape'],['Burglary','Robbery','Theft','Auto Theft']]\n",
    "   \n",
    "    #Population of each APD Sector\n",
    "    ind=[123999,11835,61607,137527,100894,60120,66059,139085,132014]\n",
    "    \n",
    "    #List of APD Sectors\n",
    "    lst=['BAKER','GEORGE','IDA','ADAM','EDWARD','CHARLIE','HENRY','DAVID','FRANK']\n",
    "    \n",
    "    population = pd.Series(ind, index = lst) \n",
    "    \n",
    "    #Violent Categories include Murder, Aggravated Assault and Rape\n",
    "    violent= df[df['Category Description'].isin(categories[0])]['APD Sector']\n",
    "    violent= df[df['Category Description'].isin(categories[0])]['APD Sector'].value_counts(ascending=True)\n",
    "    \n",
    "    #Non-Violent Categories include Burglary, Robbery, Theft and Auto Theft\n",
    "    non_violent = df[df['Category Description'].isin(categories[1])]\n",
    "    non_violent= df[df['Category Description'].isin(categories[1])]['APD Sector'].value_counts(ascending=True)[1:]  \n",
    "    \n",
    "    total_count= df_2018['APD Sector'].value_counts(ascending=True)[1:]  \n",
    "    \n",
    "    #Plot Pie Charts of Violent Crime depending on APD Sector\n",
    "    plot_pie(violent,'Violent crimes')\n",
    "    \n",
    "    #Plot Pie Charts of Non-Violent Crime depending on APD Sector\n",
    "    plot_pie(non_violent,'Non Violent Crimes')\n",
    "    \n",
    "    plot_bar((violent/population).sort_values(ascending=True)*100,(violent/population).sort_values(ascending=True).index.values,'violent')\n",
    "    plot_bar((non_violent/population).sort_values(ascending=True)*100,(non_violent/population).sort_values(ascending=True).index.values,'non-violent')\n",
    "    plot_bar(total_count.sort_values(ascending=True),total_count.sort_values(ascending=True).index.values,'total')\n",
    "\n",
    "plot_bar_graphs(df_2018)\n"
   ]
  },
  {
   "cell_type": "markdown",
   "metadata": {},
   "source": [
    "### Heat-Maps of Crime in Austin 2018"
   ]
  },
  {
   "cell_type": "code",
   "execution_count": 15,
   "metadata": {},
   "outputs": [
    {
     "name": "stdout",
     "output_type": "stream",
     "text": [
      "Heat_MapBurglary.html\n",
      "Heat_MapRobbery.html\n",
      "Heat_MapTheft.html\n",
      "Heat_MapAggravated Assault.html\n",
      "Heat_MapAuto Theft.html\n",
      "Heat_MapMurder.html\n"
     ]
    }
   ],
   "source": [
    "def create_map(data):\n",
    "    \n",
    "    data.dropna()\n",
    "    min_lat, max_lat, min_lon, max_lon = \\\n",
    "    float(min(data['Latitude'])), float(max(data['Latitude'])), \\\n",
    "    float(min(data['Longitude'])), float(max(data['Longitude']))\n",
    "\n",
    "    ## Create empty map with zoom level 16\n",
    "\n",
    "    mymap = gmplot.GoogleMapPlotter(\n",
    "    min_lat + (max_lat - min_lat) / 2, \n",
    "    min_lon + (max_lon - min_lon) / 2, \n",
    "    16)\n",
    "\n",
    "   # mymap.configureapikey=\"EnterAPI\"\n",
    "    \n",
    "    grouped=df.dropna().groupby('Category Description')\n",
    "   \n",
    "    violent=['Murder','Aggravated Assault']\n",
    "    non_violent=['Burglary','Robbery','Theft','Auto Theft']\n",
    "    \n",
    "    for each_category in data['Category Description'].dropna().unique():        \n",
    "         \n",
    "            sector_sort=grouped.get_group(each_category)['APD Sector'].dropna().value_counts().index.values\n",
    "            \n",
    "            mymap.heatmap(grouped.get_group(each_category)['Latitude'].astype(float),grouped.get_group(each_category)['Longitude'].astype(float),radius=15, opacity=0.5)\n",
    "           # mymap.scatter(grouped.get_group(each_category)[:100]['Latitude'].astype(float),grouped.get_group(each_category)['Longitude'][:100].astype(float), c='r', marker=False)\n",
    "            ####mymap.heatmap(float(grouped.get_group(each_category).iloc[0]['Latitude']), float(grouped.get_group(each_category).iloc[0]['Longitude']))\n",
    "\n",
    "            mymap.draw('Heat_Map'+ each_category + '.html')\n",
    "            print('Heat_Map'+ each_category + '.html')\n",
    "    \n",
    "create_map(df_2018)\n"
   ]
  }
 ],
 "metadata": {
  "kernelspec": {
   "display_name": "Python 3",
   "language": "python",
   "name": "python3"
  },
  "language_info": {
   "codemirror_mode": {
    "name": "ipython",
    "version": 3
   },
   "file_extension": ".py",
   "mimetype": "text/x-python",
   "name": "python",
   "nbconvert_exporter": "python",
   "pygments_lexer": "ipython3",
   "version": "3.7.3"
  }
 },
 "nbformat": 4,
 "nbformat_minor": 2
}
