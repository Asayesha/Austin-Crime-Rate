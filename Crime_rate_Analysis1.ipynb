{
 "cells": [
  {
   "cell_type": "code",
   "execution_count": 11,
   "metadata": {},
   "outputs": [
    {
     "name": "stdout",
     "output_type": "stream",
     "text": [
      "Populating the interactive namespace from numpy and matplotlib\n"
     ]
    }
   ],
   "source": [
    "import pandas as pd\n",
    "import numpy as np\n",
    "import matplotlib\n",
    "import seaborn as sns\n",
    "%pylab inline"
   ]
  },
  {
   "cell_type": "markdown",
   "metadata": {},
   "source": [
    "# Exploratory Analysis"
   ]
  },
  {
   "cell_type": "code",
   "execution_count": 2,
   "metadata": {},
   "outputs": [
    {
     "name": "stdout",
     "output_type": "stream",
     "text": [
      "Wall time: 54.3 s\n"
     ]
    }
   ],
   "source": [
    "%%time\n",
    "df = pd.read_csv(\"Crime_cleaned.csv\", index_col=0, parse_dates = ['Occurred Date', 'Clearance Date'])"
   ]
  },
  {
   "cell_type": "code",
   "execution_count": 48,
   "metadata": {},
   "outputs": [],
   "source": [
    "df_18 = df[(df['Occurred Date'] >= '2018-01-01') & (df['Occurred Date'] < '2019-01-01')]"
   ]
  },
  {
   "cell_type": "code",
   "execution_count": 13,
   "metadata": {},
   "outputs": [
    {
     "name": "stdout",
     "output_type": "stream",
     "text": [
      "2018-12-31 00:00:00\n",
      "2018-01-01 00:00:00\n"
     ]
    }
   ],
   "source": [
    "print(df_18['Occurred Date'].max())\n",
    "print(df_18['Occurred Date'].min())"
   ]
  },
  {
   "cell_type": "code",
   "execution_count": 14,
   "metadata": {},
   "outputs": [
    {
     "name": "stderr",
     "output_type": "stream",
     "text": [
      "C:\\Users\\spong\\Anaconda3\\envs\\test\\lib\\site-packages\\ipykernel_launcher.py:1: SettingWithCopyWarning: \n",
      "A value is trying to be set on a copy of a slice from a DataFrame.\n",
      "Try using .loc[row_indexer,col_indexer] = value instead\n",
      "\n",
      "See the caveats in the documentation: http://pandas.pydata.org/pandas-docs/stable/indexing.html#indexing-view-versus-copy\n",
      "  \"\"\"Entry point for launching an IPython kernel.\n"
     ]
    }
   ],
   "source": [
    "df_18['Month'] = df_18['Occurred Date'].map(lambda x: x.month)"
   ]
  },
  {
   "cell_type": "code",
   "execution_count": 18,
   "metadata": {},
   "outputs": [
    {
     "data": {
      "text/plain": [
       "<matplotlib.axes._subplots.AxesSubplot at 0x2355b392828>"
      ]
     },
     "execution_count": 18,
     "metadata": {},
     "output_type": "execute_result"
    },
    {
     "data": {
      "image/png": "[encoded data removed]",
      "text/plain": [
       "<Figure size 432x288 with 1 Axes>"
      ]
     },
     "metadata": {
      "needs_background": "light"
     },
     "output_type": "display_data"
    }
   ],
   "source": [
    "month_count = df_18['Month'].value_counts()\n",
    "month_count.sort_index().plot(kind='bar', title = \"2018 crime counts by month\")"
   ]
  },
  {
   "cell_type": "markdown",
   "metadata": {},
   "source": [
    "# what offense type happens more at night?"
   ]
  },
  {
   "cell_type": "code",
   "execution_count": 3,
   "metadata": {},
   "outputs": [
    {
     "data": {
      "text/plain": [
       "7"
      ]
     },
     "execution_count": 3,
     "metadata": {},
     "output_type": "execute_result"
    }
   ],
   "source": [
    "len(df['Category Description'].value_counts())"
   ]
  },
  {
   "cell_type": "code",
   "execution_count": 19,
   "metadata": {},
   "outputs": [
    {
     "data": {
      "text/plain": [
       "Timestamp('2019-07-20 00:00:00')"
      ]
     },
     "execution_count": 19,
     "metadata": {},
     "output_type": "execute_result"
    }
   ],
   "source": [
    "df['Occurred Date'].max()"
   ]
  },
  {
   "cell_type": "code",
   "execution_count": 4,
   "metadata": {},
   "outputs": [],
   "source": [
    "catgory = df['Category Description'].value_counts()"
   ]
  },
  {
   "cell_type": "code",
   "execution_count": 5,
   "metadata": {},
   "outputs": [],
   "source": [
    "# DayNight\n",
    "def get_day_night(x):\n",
    "    if (x>2200)or(x<600):\n",
    "        return('night')\n",
    "    elif (x>600)and(x<1400):\n",
    "        return('morning')\n",
    "    else:\n",
    "        return('afternoon')\n",
    "df['DayNight'] = df['Occurred Time'].map(get_day_night)"
   ]
  },
  {
   "cell_type": "code",
   "execution_count": 6,
   "metadata": {},
   "outputs": [
    {
     "data": {
      "text/plain": [
       "<matplotlib.axes._subplots.AxesSubplot at 0x22bbd4e9d68>"
      ]
     },
     "execution_count": 6,
     "metadata": {},
     "output_type": "execute_result"
    },
    {
     "data": {
      "image/png": "[encoded data removed]",
      "text/plain": [
       "<Figure size 432x288 with 1 Axes>"
      ]
     },
     "metadata": {
      "needs_background": "light"
     },
     "output_type": "display_data"
    }
   ],
   "source": [
    "df['DayNight'].value_counts().plot(kind='bar')"
   ]
  },
  {
   "cell_type": "code",
   "execution_count": 7,
   "metadata": {},
   "outputs": [],
   "source": [
    "catgory = pd.DataFrame(catgory)\n",
    "cat_night = pd.DataFrame(df[df['DayNight'] == 'night']['Category Description'].value_counts())\n",
    "cat_mor = pd.DataFrame(df[df['DayNight'] == 'morning']['Category Description'].value_counts())"
   ]
  },
  {
   "cell_type": "code",
   "execution_count": 8,
   "metadata": {},
   "outputs": [],
   "source": [
    "cat_m = catgory.merge(cat_night, \n",
    "                      left_on=catgory.index.values, \n",
    "                      right_on=cat_night.index.values, suffixes=['_All', '_night'])\n",
    "cat_m = cat_m.set_index('key_0')\n",
    "\n",
    "cat_m.index.name = None\n",
    "\n",
    "cat_m = cat_m.merge(cat_mor, \n",
    "                      left_on=cat_m.index.values, \n",
    "                      right_on=cat_mor.index.values, suffixes=['', '_morning'])\n",
    "\n",
    "cat_m = cat_m.set_index('key_0')"
   ]
  },
  {
   "cell_type": "code",
   "execution_count": 9,
   "metadata": {},
   "outputs": [],
   "source": [
    "cat_m['night'] = cat_m['Category Description_night']/cat_m['Category Description_All']\n",
    "cat_m['morning'] = cat_m['Category Description']/cat_m['Category Description_All']\n",
    "cat_m['afternoon'] = 1 - cat_m['night'] - cat_m['morning']"
   ]
  },
  {
   "cell_type": "code",
   "execution_count": 48,
   "metadata": {},
   "outputs": [],
   "source": [
    "cat_m[['morning', 'afternoon', 'night']]\n",
    "cat_m.index.name = 'Crime Type'"
   ]
  },
  {
   "cell_type": "code",
   "execution_count": 49,
   "metadata": {},
   "outputs": [
    {
     "data": {
      "text/plain": [
       "Text(0.5, 1, 'Crime activities in a day')"
      ]
     },
     "execution_count": 49,
     "metadata": {},
     "output_type": "execute_result"
    },
    {
     "data": {
      "image/png": "[encoded data removed]",
      "text/plain": [
       "<Figure size 360x360 with 2 Axes>"
      ]
     },
     "metadata": {},
     "output_type": "display_data"
    }
   ],
   "source": [
    "ax = sns.heatmap(cat_m[['morning', 'afternoon', 'night']], linewidths=.5, cmap = sns.color_palette(\"RdYlGn_r\", 10))\n",
    "ax.set_title(\"Crime activities in a day\")"
   ]
  },
  {
   "cell_type": "markdown",
   "metadata": {},
   "source": [
    "# which sector has higher close rate"
   ]
  },
  {
   "cell_type": "code",
   "execution_count": 127,
   "metadata": {},
   "outputs": [],
   "source": [
    "# sector = pd.DataFrame(df['APD Sector'].value_counts().head(10))\n",
    "\n",
    "# df_clear = df[df['Clearance Status'] != 'N']\n",
    "\n",
    "# df_clear = pd.DataFrame(df_clear['APD Sector'].value_counts().head(10))\n",
    "\n",
    "# clear_m = sector.merge(df_clear, left_on = sector.index.values, \n",
    "#                        right_on = df_clear.index.values, suffixes=['_all', '_cleared'])\n",
    "\n",
    "# clear_m = clear_m.set_index('key_0')\n",
    "\n",
    "# clear_m['Cleared percetage'] = clear_m['APD Sector_cleared']/clear_m['APD Sector_all']\n",
    "\n",
    "# plt.figure(figsize=(8, 5))\n",
    "# clear_m['Cleared percetage'].sort_values().plot(kind='bar', title='Case solving rate by APD sector')"
   ]
  },
  {
   "cell_type": "markdown",
   "metadata": {},
   "source": [
    "# APD sector Violent, non-violent"
   ]
  },
  {
   "cell_type": "code",
   "execution_count": 55,
   "metadata": {},
   "outputs": [
    {
     "data": {
      "text/plain": [
       "Index(['Incident Number', 'Highest Offense Description',\n",
       "       'Highest Offense Code', 'Family Violence', 'Occurred Date Time',\n",
       "       'Occurred Date', 'Occurred Time', 'Report Date Time', 'Report Date',\n",
       "       'Report Time', 'Location Type', 'Address', 'Zip Code',\n",
       "       'Council District', 'APD Sector', 'Census Tract', 'Clearance Status',\n",
       "       'Clearance Date', 'UCR Category', 'Category Description', 'Latitude',\n",
       "       'Longitude', 'Location', 'DayNight'],\n",
       "      dtype='object')"
      ]
     },
     "execution_count": 55,
     "metadata": {},
     "output_type": "execute_result"
    }
   ],
   "source": [
    "df.columns"
   ]
  },
  {
   "cell_type": "code",
   "execution_count": 193,
   "metadata": {},
   "outputs": [
    {
     "name": "stderr",
     "output_type": "stream",
     "text": [
      "C:\\Users\\spong\\Anaconda3\\envs\\test\\lib\\site-packages\\ipykernel_launcher.py:6: UserWarning: Boolean Series key will be reindexed to match DataFrame index.\n",
      "  \n",
      "C:\\Users\\spong\\Anaconda3\\envs\\test\\lib\\site-packages\\ipykernel_launcher.py:16: SettingWithCopyWarning: \n",
      "A value is trying to be set on a copy of a slice from a DataFrame\n",
      "\n",
      "See the caveats in the documentation: http://pandas.pydata.org/pandas-docs/stable/indexing.html#indexing-view-versus-copy\n",
      "  app.launch_new_instance()\n"
     ]
    }
   ],
   "source": [
    "df['APD Sector'] = df['APD Sector'].replace(['AD','AP','BA','CH','DA','ED','FR','GE','HE','ID'],\n",
    "                          ['ADAM','APT','BAKER','CHARLIE','DAVID','EDWARD','FRANK','GEORGE','HENRY','IDA'])\n",
    "\n",
    "sector_names = ['ADAM','APT','BAKER','CHARLIE','DAVID','EDWARD','FRANK','GEORGE','HENRY','IDA']\n",
    "df_name = df[df['APD Sector'].map(lambda x: x in sector_names)]\n",
    "df_name = df_name[df['Occurred Date'] >= '2018-1-1']\n",
    "df_name = df_name[df_name['Occurred Date'] < '2019-1-1']\n",
    "# there're some null values in clearance status, we are not counting them. \n",
    "# Because the amount is relatively small. and we are not sure if it's solved or not\n",
    "sec = df_name.groupby(by=['APD Sector', 'Category Description', 'Clearance Status'])['Incident Number'].count()\n",
    "sec = sec.reset_index()\n",
    "\n",
    "# C Cleared by Arrest \n",
    "# O Cleared by Exception \n",
    "# N Not cleared \n",
    "sec['Clearance Status'][sec['Clearance Status'] == 'O'] = 'C'"
   ]
  },
  {
   "cell_type": "code",
   "execution_count": 194,
   "metadata": {},
   "outputs": [
    {
     "name": "stderr",
     "output_type": "stream",
     "text": [
      "C:\\Users\\spong\\Anaconda3\\envs\\test\\lib\\site-packages\\ipykernel_launcher.py:3: SettingWithCopyWarning: \n",
      "A value is trying to be set on a copy of a slice from a DataFrame\n",
      "\n",
      "See the caveats in the documentation: http://pandas.pydata.org/pandas-docs/stable/indexing.html#indexing-view-versus-copy\n",
      "  This is separate from the ipykernel package so we can avoid doing imports until\n"
     ]
    }
   ],
   "source": [
    "violent = ['Aggravated Assault', 'Murder', 'Rape']\n",
    "sec['Crime Type'] = 'non-violent'\n",
    "sec['Crime Type'][sec['Category Description'].map(lambda x: x in violent)] = 'violent'"
   ]
  },
  {
   "cell_type": "code",
   "execution_count": 195,
   "metadata": {},
   "outputs": [
    {
     "data": {
      "text/plain": [
       "<matplotlib.axes._subplots.AxesSubplot at 0x22bc055abe0>"
      ]
     },
     "execution_count": 195,
     "metadata": {},
     "output_type": "execute_result"
    },
    {
     "data": {
      "image/png": "[encoded data removed]",
      "text/plain": [
       "<Figure size 720x288 with 1 Axes>"
      ]
     },
     "metadata": {},
     "output_type": "display_data"
    }
   ],
   "source": [
    "########CN_total\n",
    "CN = sec.groupby(by = ['APD Sector', 'Clearance Status'])[['Incident Number']].sum().unstack()\n",
    "# get rid of hierachical column\n",
    "CN = CN['Incident Number']\n",
    "CN['total'] = CN['C'] + CN['N']\n",
    "CN['clearance status'] = CN['C'] / CN['total']\n",
    "CN_total = CN['clearance status'].sort_values()\n",
    "\n",
    "########CN_NV\n",
    "CN = sec[sec['Crime Type'] == 'non-violent'].groupby(by = ['APD Sector', 'Clearance Status'])[['Incident Number']].sum().unstack()\n",
    "# get rid of hierachical column\n",
    "CN = CN['Incident Number']\n",
    "CN['total'] = CN['C'] + CN['N']\n",
    "CN['clearance status'] = CN['C'] / CN['total']\n",
    "CN_NV = CN['clearance status'].sort_values()\n",
    "\n",
    "########CN_V\n",
    "CN = sec[sec['Crime Type'] == 'violent'].groupby(by = ['APD Sector', 'Clearance Status'])[['Incident Number']].sum().unstack()\n",
    "# get rid of hierachical column\n",
    "CN = CN['Incident Number']\n",
    "CN['total'] = CN['C'] + CN['N']\n",
    "CN['clearance status'] = CN['C'] / CN['total']\n",
    "CN_V = CN['clearance status'].sort_values()\n",
    "\n",
    "########CN_f\n",
    "CN_f = pd.DataFrame({'overall': CN_total, 'non-violent': CN_NV, 'violent': CN_V}, index=CN_total.index.values)\n",
    "CN_f.plot(kind='bar', figsize=(10,4), title = 'Crime Solving Rate by APD sectors')"
   ]
  },
  {
   "cell_type": "code",
   "execution_count": 197,
   "metadata": {},
   "outputs": [
    {
     "data": {
      "text/plain": [
       "0.13944939091573172"
      ]
     },
     "execution_count": 197,
     "metadata": {},
     "output_type": "execute_result"
    }
   ],
   "source": [
    "CN_f.overall.mean()"
   ]
  },
  {
   "cell_type": "markdown",
   "metadata": {},
   "source": [
    "# How long does it take to solve acrime"
   ]
  },
  {
   "cell_type": "code",
   "execution_count": 198,
   "metadata": {},
   "outputs": [
    {
     "name": "stderr",
     "output_type": "stream",
     "text": [
      "C:\\Users\\spong\\Anaconda3\\envs\\test\\lib\\site-packages\\ipykernel_launcher.py:3: SettingWithCopyWarning: \n",
      "A value is trying to be set on a copy of a slice from a DataFrame.\n",
      "Try using .loc[row_indexer,col_indexer] = value instead\n",
      "\n",
      "See the caveats in the documentation: http://pandas.pydata.org/pandas-docs/stable/indexing.html#indexing-view-versus-copy\n",
      "  This is separate from the ipykernel package so we can avoid doing imports until\n"
     ]
    }
   ],
   "source": [
    "mask = (df['Clearance Status']=='C') | (df['Clearance Status']=='O')\n",
    "df_cl = df[mask]\n",
    "df_cl['Time processing'] = (df_cl['Clearance Date'] - df_cl['Occurred Date']).map(lambda x: x.days)"
   ]
  },
  {
   "cell_type": "code",
   "execution_count": 199,
   "metadata": {},
   "outputs": [
    {
     "name": "stderr",
     "output_type": "stream",
     "text": [
      "C:\\Users\\spong\\Anaconda3\\envs\\test\\lib\\site-packages\\ipykernel_launcher.py:2: UserWarning: Boolean Series key will be reindexed to match DataFrame index.\n",
      "  \n",
      "C:\\Users\\spong\\Anaconda3\\envs\\test\\lib\\site-packages\\ipykernel_launcher.py:10: SettingWithCopyWarning: \n",
      "A value is trying to be set on a copy of a slice from a DataFrame\n",
      "\n",
      "See the caveats in the documentation: http://pandas.pydata.org/pandas-docs/stable/indexing.html#indexing-view-versus-copy\n",
      "  # Remove the CWD from sys.path while we load stuff.\n"
     ]
    }
   ],
   "source": [
    "df_name = df_cl[df_cl['APD Sector'].map(lambda x: x in sector_names)]\n",
    "df_name = df_name[df['Occurred Date'] >= '2018-1-1']\n",
    "df_name = df_name[df_name['Occurred Date'] < '2019-1-1']\n",
    "# there're some null values in clearance status, we are not counting them. \n",
    "# Because the amount is relatively small. and we are not sure if it's solved or not\n",
    "sec = df_name.groupby(by=['APD Sector', 'Category Description'])['Time processing'].mean()\n",
    "sec = sec.reset_index()\n",
    "violent = ['Aggravated Assault', 'Murder', 'Rape']\n",
    "sec['Crime Type'] = 'non-violent'\n",
    "sec['Crime Type'][sec['Category Description'].map(lambda x: x in violent)] = 'violent'"
   ]
  },
  {
   "cell_type": "code",
   "execution_count": 200,
   "metadata": {},
   "outputs": [
    {
     "data": {
      "text/plain": [
       "Text(0, 0.5, 'days')"
      ]
     },
     "execution_count": 200,
     "metadata": {},
     "output_type": "execute_result"
    },
    {
     "data": {
      "image/png": "[encoded data removed]",
      "text/plain": [
       "<Figure size 720x288 with 1 Axes>"
      ]
     },
     "metadata": {},
     "output_type": "display_data"
    }
   ],
   "source": [
    "CN_total = sec.groupby(by = ['APD Sector'])['Time processing'].mean().sort_values()\n",
    "CN_NV = sec[sec['Crime Type'] == 'non-violent'].groupby(by = ['APD Sector'])['Time processing'].mean()\n",
    "CN_V = sec[sec['Crime Type'] == 'violent'].groupby(by = ['APD Sector'])['Time processing'].mean()\n",
    "\n",
    "CN_f = pd.DataFrame({'overall': CN_total, 'non-violent': CN_NV, 'violent': CN_V}, index=CN_total.index.values)\n",
    "ax = CN_f.plot(kind='bar', figsize=(10,4), title = 'Crime Solving Days by APD sectors')\n",
    "ax.set_ylabel('days')"
   ]
  },
  {
   "cell_type": "code",
   "execution_count": 202,
   "metadata": {},
   "outputs": [
    {
     "data": {
      "text/plain": [
       "35.25635968438385"
      ]
     },
     "execution_count": 202,
     "metadata": {},
     "output_type": "execute_result"
    }
   ],
   "source": [
    "CN_f.overall.mean()"
   ]
  },
  {
   "cell_type": "markdown",
   "metadata": {},
   "source": [
    "# what type of crime is the most difficult to solve?"
   ]
  },
  {
   "cell_type": "code",
   "execution_count": 28,
   "metadata": {},
   "outputs": [
    {
     "data": {
      "text/plain": [
       "<matplotlib.axes._subplots.AxesSubplot at 0x22bb4940f60>"
      ]
     },
     "execution_count": 28,
     "metadata": {},
     "output_type": "execute_result"
    },
    {
     "data": {
      "image/png": "[encoded data removed]",
      "text/plain": [
       "<Figure size 432x288 with 1 Axes>"
      ]
     },
     "metadata": {
      "needs_background": "light"
     },
     "output_type": "display_data"
    }
   ],
   "source": [
    "crime = pd.DataFrame(df['Category Description'].value_counts())\n",
    "\n",
    "crime_sol = pd.DataFrame(df[df['Clearance Status'] != 'N']['Category Description'].value_counts())\n",
    "\n",
    "crime_m = crime.merge(crime_sol, right_on=crime.index.values,\n",
    "                      left_on=crime_sol.index.values, suffixes=['_all', '_solved'])\n",
    "\n",
    "crime_m['solveing rate'] = crime_m['Category Description_solved']/crime_m['Category Description_all']\n",
    "\n",
    "crime_m = crime_m.set_index('key_0') \n",
    "\n",
    "crime_m['solveing rate'].sort_values().plot(kind='bar', color='r', title = 'solveing rate by crime type')"
   ]
  },
  {
   "cell_type": "markdown",
   "metadata": {},
   "source": [
    "# process data for ggplot"
   ]
  },
  {
   "cell_type": "code",
   "execution_count": 165,
   "metadata": {},
   "outputs": [
    {
     "name": "stderr",
     "output_type": "stream",
     "text": [
      "C:\\Users\\spong\\Anaconda3\\envs\\test\\lib\\site-packages\\ipykernel_launcher.py:3: SettingWithCopyWarning: \n",
      "A value is trying to be set on a copy of a slice from a DataFrame\n",
      "\n",
      "See the caveats in the documentation: http://pandas.pydata.org/pandas-docs/stable/indexing.html#indexing-view-versus-copy\n",
      "  This is separate from the ipykernel package so we can avoid doing imports until\n"
     ]
    }
   ],
   "source": [
    "violent = ['Aggravated Assault', 'Murder', 'Rape']\n",
    "df['Crime Type'] = 'non-violent'\n",
    "df['Crime Type'][df['Category Description'].map(lambda x: x in violent)] = 'violent'"
   ]
  },
  {
   "cell_type": "code",
   "execution_count": 171,
   "metadata": {},
   "outputs": [],
   "source": [
    "df['day of the month'] =df['Occurred Date'].map(lambda x: x.day)"
   ]
  },
  {
   "cell_type": "code",
   "execution_count": 172,
   "metadata": {},
   "outputs": [],
   "source": [
    "df.groupby(by=['Occurred Date', 'Crime Type', 'day of the month'])['Incident Number'].count().reset_index().to_csv(\"crime_type.csv\")"
   ]
  },
  {
   "cell_type": "markdown",
   "metadata": {},
   "source": [
    "# crime distribution among a day"
   ]
  },
  {
   "cell_type": "code",
   "execution_count": null,
   "metadata": {},
   "outputs": [],
   "source": [
    "df_18['Occurred Time'].plot(kind='hist',bins=24, title='Crime counts across the day')"
   ]
  },
  {
   "cell_type": "markdown",
   "metadata": {},
   "source": [
    "# What kind of crime takes the longest to solve"
   ]
  },
  {
   "cell_type": "code",
   "execution_count": 3,
   "metadata": {},
   "outputs": [
    {
     "data": {
      "text/plain": [
       "Index([u'Incident Number', u'Highest Offense Description',\n",
       "       u'Highest Offense Code', u'Family Violence', u'Occurred Date Time',\n",
       "       u'Occurred Date', u'Occurred Time', u'Report Date Time', u'Report Date',\n",
       "       u'Report Time', u'Location Type', u'Address', u'Zip Code',\n",
       "       u'Council District', u'APD Sector', u'Census Tract',\n",
       "       u'Clearance Status', u'Clearance Date', u'UCR Category',\n",
       "       u'Category Description', u'Latitude', u'Longitude', u'Location'],\n",
       "      dtype='object')"
      ]
     },
     "execution_count": 3,
     "metadata": {},
     "output_type": "execute_result"
    }
   ],
   "source": [
    "df.columns"
   ]
  },
  {
   "cell_type": "markdown",
   "metadata": {},
   "source": [
    "# what ADP is the most efficient in solving cases?  7/30"
   ]
  },
  {
   "cell_type": "code",
   "execution_count": 4,
   "metadata": {},
   "outputs": [
    {
     "data": {
      "text/plain": [
       "N    315316\n",
       "C     51380\n",
       "O      9352\n",
       "Name: Clearance Status, dtype: int64"
      ]
     },
     "execution_count": 4,
     "metadata": {},
     "output_type": "execute_result"
    }
   ],
   "source": [
    "df['Clearance Status'].value_counts()"
   ]
  },
  {
   "cell_type": "code",
   "execution_count": 25,
   "metadata": {},
   "outputs": [
    {
     "data": {
      "text/plain": [
       "Theft                 284163\n",
       "Burglary               55270\n",
       "Auto Theft             20372\n",
       "Aggravated Assault     18847\n",
       "Robbery                 9109\n",
       "Rape                    6770\n",
       "Murder                   285\n",
       "Name: Category Description, dtype: int64"
      ]
     },
     "execution_count": 25,
     "metadata": {},
     "output_type": "execute_result"
    }
   ],
   "source": [
    "df['Category Description'].value_counts()"
   ]
  },
  {
   "cell_type": "code",
   "execution_count": 20,
   "metadata": {},
   "outputs": [],
   "source": [
    "mask = (df['Clearance Status']=='C') | (df['Clearance Status']=='O')\n",
    "df_cl = df[mask]"
   ]
  },
  {
   "cell_type": "code",
   "execution_count": 22,
   "metadata": {},
   "outputs": [
    {
     "data": {
      "text/plain": [
       "C    51380\n",
       "O     9352\n",
       "Name: Clearance Status, dtype: int64"
      ]
     },
     "execution_count": 22,
     "metadata": {},
     "output_type": "execute_result"
    }
   ],
   "source": [
    "df_cl['Clearance Status'].value_counts()"
   ]
  },
  {
   "cell_type": "code",
   "execution_count": 24,
   "metadata": {},
   "outputs": [
    {
     "data": {
      "text/plain": [
       "Theft                 34309\n",
       "Aggravated Assault    11039\n",
       "Burglary               5947\n",
       "Auto Theft             3223\n",
       "Rape                   3149\n",
       "Robbery                2825\n",
       "Murder                  240\n",
       "Name: Category Description, dtype: int64"
      ]
     },
     "execution_count": 24,
     "metadata": {},
     "output_type": "execute_result"
    }
   ],
   "source": [
    "df_cl['Category Description'].value_counts()"
   ]
  },
  {
   "cell_type": "code",
   "execution_count": 49,
   "metadata": {},
   "outputs": [
    {
     "name": "stderr",
     "output_type": "stream",
     "text": [
      "C:\\Users\\spong\\Anaconda3\\envs\\py2\\lib\\site-packages\\ipykernel_launcher.py:1: SettingWithCopyWarning: \n",
      "A value is trying to be set on a copy of a slice from a DataFrame.\n",
      "Try using .loc[row_indexer,col_indexer] = value instead\n",
      "\n",
      "See the caveats in the documentation: http://pandas.pydata.org/pandas-docs/stable/indexing.html#indexing-view-versus-copy\n",
      "  \"\"\"Entry point for launching an IPython kernel.\n"
     ]
    }
   ],
   "source": [
    "df_cl['Time processing'] = (df_cl['Clearance Date'] - df_cl['Occurred Date']).map(lambda x: x.days)"
   ]
  },
  {
   "cell_type": "code",
   "execution_count": 50,
   "metadata": {},
   "outputs": [
    {
     "data": {
      "text/html": [
       "<div>\n",
       "<style scoped>\n",
       "    .dataframe tbody tr th:only-of-type {\n",
       "        vertical-align: middle;\n",
       "    }\n",
       "\n",
       "    .dataframe tbody tr th {\n",
       "        vertical-align: top;\n",
       "    }\n",
       "\n",
       "    .dataframe thead th {\n",
       "        text-align: right;\n",
       "    }\n",
       "</style>\n",
       "<table border=\"1\" class=\"dataframe\">\n",
       "  <thead>\n",
       "    <tr style=\"text-align: right;\">\n",
       "      <th>Category Description</th>\n",
       "      <th>Aggravated Assault</th>\n",
       "      <th>Auto Theft</th>\n",
       "      <th>Burglary</th>\n",
       "      <th>Murder</th>\n",
       "      <th>Rape</th>\n",
       "      <th>Robbery</th>\n",
       "      <th>Theft</th>\n",
       "    </tr>\n",
       "    <tr>\n",
       "      <th>APD Sector</th>\n",
       "      <th></th>\n",
       "      <th></th>\n",
       "      <th></th>\n",
       "      <th></th>\n",
       "      <th></th>\n",
       "      <th></th>\n",
       "      <th></th>\n",
       "    </tr>\n",
       "  </thead>\n",
       "  <tbody>\n",
       "    <tr>\n",
       "      <th>88</th>\n",
       "      <td>16.600000</td>\n",
       "      <td>1.000000</td>\n",
       "      <td>11.000000</td>\n",
       "      <td>NaN</td>\n",
       "      <td>250.705882</td>\n",
       "      <td>181.000000</td>\n",
       "      <td>48.294118</td>\n",
       "    </tr>\n",
       "    <tr>\n",
       "      <th>AD</th>\n",
       "      <td>18.970896</td>\n",
       "      <td>32.466667</td>\n",
       "      <td>96.390295</td>\n",
       "      <td>15.071429</td>\n",
       "      <td>180.409091</td>\n",
       "      <td>43.990244</td>\n",
       "      <td>25.899370</td>\n",
       "    </tr>\n",
       "    <tr>\n",
       "      <th>AP</th>\n",
       "      <td>13.500000</td>\n",
       "      <td>56.285714</td>\n",
       "      <td>12.000000</td>\n",
       "      <td>NaN</td>\n",
       "      <td>NaN</td>\n",
       "      <td>0.000000</td>\n",
       "      <td>58.395604</td>\n",
       "    </tr>\n",
       "    <tr>\n",
       "      <th>BA</th>\n",
       "      <td>20.631485</td>\n",
       "      <td>29.979239</td>\n",
       "      <td>54.189236</td>\n",
       "      <td>69.750000</td>\n",
       "      <td>159.935115</td>\n",
       "      <td>65.516129</td>\n",
       "      <td>28.499335</td>\n",
       "    </tr>\n",
       "    <tr>\n",
       "      <th>CH</th>\n",
       "      <td>17.619275</td>\n",
       "      <td>30.838235</td>\n",
       "      <td>45.415693</td>\n",
       "      <td>133.967742</td>\n",
       "      <td>172.544304</td>\n",
       "      <td>62.006135</td>\n",
       "      <td>28.736182</td>\n",
       "    </tr>\n",
       "    <tr>\n",
       "      <th>DA</th>\n",
       "      <td>18.236842</td>\n",
       "      <td>35.882086</td>\n",
       "      <td>59.888747</td>\n",
       "      <td>68.722222</td>\n",
       "      <td>188.761610</td>\n",
       "      <td>65.113269</td>\n",
       "      <td>20.293088</td>\n",
       "    </tr>\n",
       "    <tr>\n",
       "      <th>ED</th>\n",
       "      <td>19.143902</td>\n",
       "      <td>23.001953</td>\n",
       "      <td>109.818280</td>\n",
       "      <td>32.954545</td>\n",
       "      <td>143.260628</td>\n",
       "      <td>54.518987</td>\n",
       "      <td>26.660417</td>\n",
       "    </tr>\n",
       "    <tr>\n",
       "      <th>FR</th>\n",
       "      <td>17.795141</td>\n",
       "      <td>32.775000</td>\n",
       "      <td>67.506448</td>\n",
       "      <td>124.000000</td>\n",
       "      <td>178.955157</td>\n",
       "      <td>51.290102</td>\n",
       "      <td>26.459116</td>\n",
       "    </tr>\n",
       "    <tr>\n",
       "      <th>GE</th>\n",
       "      <td>21.037094</td>\n",
       "      <td>23.367742</td>\n",
       "      <td>40.317597</td>\n",
       "      <td>110.529412</td>\n",
       "      <td>129.451389</td>\n",
       "      <td>29.767857</td>\n",
       "      <td>20.000530</td>\n",
       "    </tr>\n",
       "    <tr>\n",
       "      <th>HE</th>\n",
       "      <td>17.197452</td>\n",
       "      <td>25.267003</td>\n",
       "      <td>61.783572</td>\n",
       "      <td>98.300000</td>\n",
       "      <td>166.296629</td>\n",
       "      <td>56.603053</td>\n",
       "      <td>19.784496</td>\n",
       "    </tr>\n",
       "    <tr>\n",
       "      <th>ID</th>\n",
       "      <td>16.821249</td>\n",
       "      <td>24.897507</td>\n",
       "      <td>67.364512</td>\n",
       "      <td>62.833333</td>\n",
       "      <td>169.267692</td>\n",
       "      <td>53.214634</td>\n",
       "      <td>20.751241</td>\n",
       "    </tr>\n",
       "  </tbody>\n",
       "</table>\n",
       "</div>"
      ],
      "text/plain": [
       "Category Description  Aggravated Assault  Auto Theft    Burglary      Murder  \\\n",
       "APD Sector                                                                     \n",
       "88                             16.600000    1.000000   11.000000         NaN   \n",
       "AD                             18.970896   32.466667   96.390295   15.071429   \n",
       "AP                             13.500000   56.285714   12.000000         NaN   \n",
       "BA                             20.631485   29.979239   54.189236   69.750000   \n",
       "CH                             17.619275   30.838235   45.415693  133.967742   \n",
       "DA                             18.236842   35.882086   59.888747   68.722222   \n",
       "ED                             19.143902   23.001953  109.818280   32.954545   \n",
       "FR                             17.795141   32.775000   67.506448  124.000000   \n",
       "GE                             21.037094   23.367742   40.317597  110.529412   \n",
       "HE                             17.197452   25.267003   61.783572   98.300000   \n",
       "ID                             16.821249   24.897507   67.364512   62.833333   \n",
       "\n",
       "Category Description        Rape     Robbery      Theft  \n",
       "APD Sector                                               \n",
       "88                    250.705882  181.000000  48.294118  \n",
       "AD                    180.409091   43.990244  25.899370  \n",
       "AP                           NaN    0.000000  58.395604  \n",
       "BA                    159.935115   65.516129  28.499335  \n",
       "CH                    172.544304   62.006135  28.736182  \n",
       "DA                    188.761610   65.113269  20.293088  \n",
       "ED                    143.260628   54.518987  26.660417  \n",
       "FR                    178.955157   51.290102  26.459116  \n",
       "GE                    129.451389   29.767857  20.000530  \n",
       "HE                    166.296629   56.603053  19.784496  \n",
       "ID                    169.267692   53.214634  20.751241  "
      ]
     },
     "execution_count": 50,
     "metadata": {},
     "output_type": "execute_result"
    }
   ],
   "source": [
    "df_cl.pivot_table(index='APD Sector', \n",
    "                  columns='Category Description', \n",
    "                  values='Time processing', \n",
    "                 aggfunc=mean)"
   ]
  },
  {
   "cell_type": "code",
   "execution_count": 52,
   "metadata": {},
   "outputs": [
    {
     "data": {
      "text/plain": [
       "DA    9333\n",
       "ED    8818\n",
       "ID    8491\n",
       "FR    7209\n",
       "HE    6943\n",
       "AD    6262\n",
       "CH    5160\n",
       "BA    4895\n",
       "GE    3306\n",
       "AP     146\n",
       "88      50\n",
       "Name: APD Sector, dtype: int64"
      ]
     },
     "execution_count": 52,
     "metadata": {},
     "output_type": "execute_result"
    }
   ],
   "source": [
    "df_cl['APD Sector'].value_counts()"
   ]
  },
  {
   "cell_type": "markdown",
   "metadata": {},
   "source": [
    "# clean data for RF prediction"
   ]
  },
  {
   "cell_type": "code",
   "execution_count": 55,
   "metadata": {},
   "outputs": [],
   "source": [
    "df['Isocalendar'] = df['Occurred Date'].map(lambda x: x.isocalendar()[0:3])"
   ]
  },
  {
   "cell_type": "code",
   "execution_count": 6,
   "metadata": {},
   "outputs": [],
   "source": [
    "df1 = df.groupby(by='Isocalendar')['Isocalendar'].count()"
   ]
  },
  {
   "cell_type": "code",
   "execution_count": 64,
   "metadata": {},
   "outputs": [],
   "source": [
    "df2 = pd.DataFrame(df1)\n",
    "df2.columns.values[0] = 'crime count'\n",
    "\n",
    "df2['week of all data'] = range(0, df2.shape[0])\n",
    "df2['Iso'] = df2.index.values\n",
    "df2['week of the year'] = df2['Iso'].map(lambda x: x[1])\n",
    "df2['year'] = df2['Iso'].map(lambda x: x[0])\n",
    "df2.to_csv(\"data_for_bagging.csv\")\n",
    "train = df2[df2['year'] < 2019]\n",
    "test = df2[df2['year'] >= 2019]\n",
    "\n",
    "trainX = train[['week of all data', 'week of the year']].as_matrix()\n",
    "trainY = train['crime count'].as_matrix()\n",
    "print(len(trainY))\n",
    "\n",
    "testX = test[['week of all data', 'week of the year']].as_matrix()\n",
    "testY = test['crime count'].as_matrix()\n",
    "print(len(testY))"
   ]
  },
  {
   "cell_type": "code",
   "execution_count": 17,
   "metadata": {},
   "outputs": [],
   "source": [
    "from sklearn.ensemble import BaggingRegressor"
   ]
  },
  {
   "cell_type": "code",
   "execution_count": 45,
   "metadata": {},
   "outputs": [],
   "source": [
    "regr = BaggingRegressor(n_estimators=1000, max_samples=300)\n",
    "regr.fit(trainX, trainY)\n",
    "pd.Series(regr.predict(trainX)).plot()\n",
    "pd.Series(trainY).plot()\n",
    "regr.score(trainX, trainY)"
   ]
  },
  {
   "cell_type": "code",
   "execution_count": 48,
   "metadata": {},
   "outputs": [
    {
     "data": {
      "text/plain": [
       "<matplotlib.axes._subplots.AxesSubplot at 0x1bbd36508d0>"
      ]
     },
     "execution_count": 48,
     "metadata": {},
     "output_type": "execute_result"
    },
    {
     "data": {
      "image/png": "[encoded data removed]",
      "text/plain": [
       "<Figure size 432x288 with 1 Axes>"
      ]
     },
     "metadata": {
      "needs_background": "light"
     },
     "output_type": "display_data"
    }
   ],
   "source": [
    "pd.Series(regr.predict(testX)).plot()\n",
    "pd.Series(testY).plot()\n",
    "regr.score(testX, testY)"
   ]
  },
  {
   "cell_type": "markdown",
   "metadata": {},
   "source": [
    "# try daily prediction.."
   ]
  },
  {
   "cell_type": "code",
   "execution_count": 65,
   "metadata": {},
   "outputs": [
    {
     "data": {
      "text/plain": [
       "Occurred Date\n",
       "2010-01-01    162\n",
       "2010-01-02    136\n",
       "2010-01-03    113\n",
       "2010-01-04    138\n",
       "2010-01-05    118\n",
       "Name: Occurred Date, dtype: int64"
      ]
     },
     "execution_count": 65,
     "metadata": {},
     "output_type": "execute_result"
    }
   ],
   "source": [
    "df3 = df.groupby(by='Occurred Date')['Occurred Date'].count()\n",
    "df3.head()"
   ]
  },
  {
   "cell_type": "code",
   "execution_count": 68,
   "metadata": {},
   "outputs": [
    {
     "data": {
      "text/html": [
       "<div>\n",
       "<style scoped>\n",
       "    .dataframe tbody tr th:only-of-type {\n",
       "        vertical-align: middle;\n",
       "    }\n",
       "\n",
       "    .dataframe tbody tr th {\n",
       "        vertical-align: top;\n",
       "    }\n",
       "\n",
       "    .dataframe thead th {\n",
       "        text-align: right;\n",
       "    }\n",
       "</style>\n",
       "<table border=\"1\" class=\"dataframe\">\n",
       "  <thead>\n",
       "    <tr style=\"text-align: right;\">\n",
       "      <th></th>\n",
       "      <th>crime count</th>\n",
       "      <th>Iso</th>\n",
       "      <th>day of all data</th>\n",
       "      <th>week of the year</th>\n",
       "      <th>year</th>\n",
       "      <th>month</th>\n",
       "      <th>day of the month</th>\n",
       "      <th>week day</th>\n",
       "    </tr>\n",
       "    <tr>\n",
       "      <th>Occurred Date</th>\n",
       "      <th></th>\n",
       "      <th></th>\n",
       "      <th></th>\n",
       "      <th></th>\n",
       "      <th></th>\n",
       "      <th></th>\n",
       "      <th></th>\n",
       "      <th></th>\n",
       "    </tr>\n",
       "  </thead>\n",
       "  <tbody>\n",
       "    <tr>\n",
       "      <th>2010-01-01</th>\n",
       "      <td>162</td>\n",
       "      <td>(2009, 53, 5)</td>\n",
       "      <td>0</td>\n",
       "      <td>53</td>\n",
       "      <td>2010</td>\n",
       "      <td>1</td>\n",
       "      <td>1</td>\n",
       "      <td>5</td>\n",
       "    </tr>\n",
       "    <tr>\n",
       "      <th>2010-01-02</th>\n",
       "      <td>136</td>\n",
       "      <td>(2009, 53, 6)</td>\n",
       "      <td>1</td>\n",
       "      <td>53</td>\n",
       "      <td>2010</td>\n",
       "      <td>1</td>\n",
       "      <td>2</td>\n",
       "      <td>6</td>\n",
       "    </tr>\n",
       "    <tr>\n",
       "      <th>2010-01-03</th>\n",
       "      <td>113</td>\n",
       "      <td>(2009, 53, 7)</td>\n",
       "      <td>2</td>\n",
       "      <td>53</td>\n",
       "      <td>2010</td>\n",
       "      <td>1</td>\n",
       "      <td>3</td>\n",
       "      <td>7</td>\n",
       "    </tr>\n",
       "    <tr>\n",
       "      <th>2010-01-04</th>\n",
       "      <td>138</td>\n",
       "      <td>(2010, 1, 1)</td>\n",
       "      <td>3</td>\n",
       "      <td>1</td>\n",
       "      <td>2010</td>\n",
       "      <td>1</td>\n",
       "      <td>4</td>\n",
       "      <td>1</td>\n",
       "    </tr>\n",
       "    <tr>\n",
       "      <th>2010-01-05</th>\n",
       "      <td>118</td>\n",
       "      <td>(2010, 1, 2)</td>\n",
       "      <td>4</td>\n",
       "      <td>1</td>\n",
       "      <td>2010</td>\n",
       "      <td>1</td>\n",
       "      <td>5</td>\n",
       "      <td>2</td>\n",
       "    </tr>\n",
       "  </tbody>\n",
       "</table>\n",
       "</div>"
      ],
      "text/plain": [
       "               crime count            Iso  day of all data  week of the year  \\\n",
       "Occurred Date                                                                  \n",
       "2010-01-01             162  (2009, 53, 5)                0                53   \n",
       "2010-01-02             136  (2009, 53, 6)                1                53   \n",
       "2010-01-03             113  (2009, 53, 7)                2                53   \n",
       "2010-01-04             138   (2010, 1, 1)                3                 1   \n",
       "2010-01-05             118   (2010, 1, 2)                4                 1   \n",
       "\n",
       "               year  month  day of the month  week day  \n",
       "Occurred Date                                           \n",
       "2010-01-01     2010      1                 1         5  \n",
       "2010-01-02     2010      1                 2         6  \n",
       "2010-01-03     2010      1                 3         7  \n",
       "2010-01-04     2010      1                 4         1  \n",
       "2010-01-05     2010      1                 5         2  "
      ]
     },
     "execution_count": 68,
     "metadata": {},
     "output_type": "execute_result"
    }
   ],
   "source": [
    "df2 = pd.DataFrame(df3)\n",
    "df2.columns.values[0] = 'crime count'\n",
    "\n",
    "df2['Iso'] = [x.isocalendar() for x in df2.index]\n",
    "df2['day of all data'] = range(0, df2.shape[0])\n",
    "df2['week of the year'] = df2['Iso'].map(lambda x: x[1])\n",
    "df2['year'] = [x.year for x in df2.index]\n",
    "df2['month'] = [x.month for x in df2.index]\n",
    "df2['day of the month'] = [x.day for x in df2.index]\n",
    "df2['week day'] = df2['Iso'].map(lambda x: x[2])\n",
    "df2.to_csv(\"data_for_bagging_daily.csv\")\n",
    "\n",
    "df2.head()"
   ]
  },
  {
   "cell_type": "code",
   "execution_count": 71,
   "metadata": {},
   "outputs": [
    {
     "name": "stdout",
     "output_type": "stream",
     "text": [
      "3287\n",
      "201\n"
     ]
    },
    {
     "name": "stderr",
     "output_type": "stream",
     "text": [
      "C:\\Users\\spong\\Anaconda3\\envs\\test\\lib\\site-packages\\ipykernel_launcher.py:4: FutureWarning: Method .as_matrix will be removed in a future version. Use .values instead.\n",
      "  after removing the cwd from sys.path.\n",
      "C:\\Users\\spong\\Anaconda3\\envs\\test\\lib\\site-packages\\ipykernel_launcher.py:5: FutureWarning: Method .as_matrix will be removed in a future version. Use .values instead.\n",
      "  \"\"\"\n",
      "C:\\Users\\spong\\Anaconda3\\envs\\test\\lib\\site-packages\\ipykernel_launcher.py:8: FutureWarning: Method .as_matrix will be removed in a future version. Use .values instead.\n",
      "  \n",
      "C:\\Users\\spong\\Anaconda3\\envs\\test\\lib\\site-packages\\ipykernel_launcher.py:9: FutureWarning: Method .as_matrix will be removed in a future version. Use .values instead.\n",
      "  if __name__ == '__main__':\n"
     ]
    }
   ],
   "source": [
    "train = df2[df2['year'] < 2019]\n",
    "test = df2[df2['year'] >= 2019]\n",
    "\n",
    "trainX = train.iloc[:,2:].as_matrix()\n",
    "trainY = train['crime count'].as_matrix()\n",
    "print(len(trainY))\n",
    "\n",
    "testX = test.iloc[:,2:].as_matrix()\n",
    "testY = test['crime count'].as_matrix()\n",
    "print(len(testY))"
   ]
  },
  {
   "cell_type": "code",
   "execution_count": 92,
   "metadata": {},
   "outputs": [],
   "source": [
    "import matplotlib\n",
    "import matplotlib.pyplot as plt"
   ]
  },
  {
   "cell_type": "code",
   "execution_count": 110,
   "metadata": {},
   "outputs": [
    {
     "data": {
      "text/plain": [
       "0.6461916037035875"
      ]
     },
     "execution_count": 110,
     "metadata": {},
     "output_type": "execute_result"
    },
    {
     "data": {
      "image/png": "[encoded data removed]",
      "text/plain": [
       "<Figure size 432x288 with 1 Axes>"
      ]
     },
     "metadata": {
      "needs_background": "light"
     },
     "output_type": "display_data"
    }
   ],
   "source": [
    "regr = BaggingRegressor(n_estimators=450, max_samples=450)\n",
    "regr.fit(trainX, trainY)\n",
    "pd.Series(regr.predict(trainX)).plot()\n",
    "regr.score(trainX, trainY)"
   ]
  },
  {
   "cell_type": "code",
   "execution_count": 112,
   "metadata": {},
   "outputs": [
    {
     "data": {
      "text/plain": [
       "<matplotlib.axes._subplots.AxesSubplot at 0x1bbd323d208>"
      ]
     },
     "execution_count": 112,
     "metadata": {},
     "output_type": "execute_result"
    },
    {
     "data": {
      "image/png": "[encoded data removed]",
      "text/plain": [
       "<Figure size 432x288 with 1 Axes>"
      ]
     },
     "metadata": {
      "needs_background": "light"
     },
     "output_type": "display_data"
    }
   ],
   "source": [
    "pd.Series(trainY).plot(color='r')"
   ]
  },
  {
   "cell_type": "code",
   "execution_count": 109,
   "metadata": {},
   "outputs": [
    {
     "data": {
      "text/plain": [
       "0.03007458634961102"
      ]
     },
     "execution_count": 109,
     "metadata": {},
     "output_type": "execute_result"
    },
    {
     "data": {
      "image/png": "[encoded data removed]",
      "text/plain": [
       "<Figure size 432x288 with 1 Axes>"
      ]
     },
     "metadata": {
      "needs_background": "light"
     },
     "output_type": "display_data"
    }
   ],
   "source": [
    "pd.Series(regr.predict(testX)).plot()\n",
    "pd.Series(testY).plot()\n",
    "regr.score(testX, testY)"
   ]
  },
  {
   "cell_type": "markdown",
   "metadata": {},
   "source": [
    "# how max_samples affects score"
   ]
  },
  {
   "cell_type": "code",
   "execution_count": 97,
   "metadata": {},
   "outputs": [],
   "source": [
    "train_score = list()\n",
    "test_score = list()\n",
    "for i in np.arange(100, 1050, 50):\n",
    "    regr = BaggingRegressor(n_estimators=2000, max_samples=i)\n",
    "    regr.fit(trainX, trainY)\n",
    "    train_score.append(regr.score(trainX, trainY))\n",
    "    test_score.append(regr.score(testX, testY))"
   ]
  },
  {
   "cell_type": "code",
   "execution_count": 96,
   "metadata": {},
   "outputs": [
    {
     "data": {
      "text/plain": [
       "[<matplotlib.lines.Line2D at 0x1bbc78bcef0>]"
      ]
     },
     "execution_count": 96,
     "metadata": {},
     "output_type": "execute_result"
    },
    {
     "data": {
      "image/png": "[encoded data removed]",
      "text/plain": [
       "<Figure size 432x288 with 1 Axes>"
      ]
     },
     "metadata": {
      "needs_background": "light"
     },
     "output_type": "display_data"
    }
   ],
   "source": [
    "fig, ax = plt.subplots()\n",
    "ax.plot(np.arange(100, 1050, 50), train_score, color = 'k')\n",
    "ax.plot(np.arange(100, 1050, 50), test_score, color = 'r')"
   ]
  },
  {
   "cell_type": "markdown",
   "metadata": {},
   "source": [
    "# how n_estmators affect scores?"
   ]
  },
  {
   "cell_type": "code",
   "execution_count": 100,
   "metadata": {},
   "outputs": [
    {
     "name": "stdout",
     "output_type": "stream",
     "text": [
      "Wall time: 2.89 s\n"
     ]
    }
   ],
   "source": [
    "%%time\n",
    "train_score = list()\n",
    "test_score = list()\n",
    "for i in np.arange(50, 500, 50):\n",
    "    regr = BaggingRegressor(n_estimators=i, max_samples=200)\n",
    "    regr.fit(trainX, trainY)\n",
    "    train_score.append(regr.score(trainX, trainY))\n",
    "    test_score.append(regr.score(testX, testY))"
   ]
  },
  {
   "cell_type": "code",
   "execution_count": 101,
   "metadata": {},
   "outputs": [
    {
     "data": {
      "text/plain": [
       "[<matplotlib.lines.Line2D at 0x1bbc6f91a58>]"
      ]
     },
     "execution_count": 101,
     "metadata": {},
     "output_type": "execute_result"
    },
    {
     "data": {
      "image/png": "[encoded data removed]",
      "text/plain": [
       "<Figure size 432x288 with 1 Axes>"
      ]
     },
     "metadata": {
      "needs_background": "light"
     },
     "output_type": "display_data"
    }
   ],
   "source": [
    "fig, ax = plt.subplots()\n",
    "ax.plot(np.arange(50, 500, 50), train_score, color = 'k')\n",
    "ax.plot(np.arange(50, 500, 50), test_score, color = 'r')"
   ]
  },
  {
   "cell_type": "code",
   "execution_count": null,
   "metadata": {},
   "outputs": [],
   "source": [
    "from sklearn import RandomForestClassifier\n"
   ]
  }
 ],
 "metadata": {
  "kernelspec": {
   "display_name": "Python 3",
   "language": "python",
   "name": "python3"
  },
  "language_info": {
   "codemirror_mode": {
    "name": "ipython",
    "version": 3
   },
   "file_extension": ".py",
   "mimetype": "text/x-python",
   "name": "python",
   "nbconvert_exporter": "python",
   "pygments_lexer": "ipython3",
   "version": "3.7.3"
  }
 },
 "nbformat": 4,
 "nbformat_minor": 2
}
